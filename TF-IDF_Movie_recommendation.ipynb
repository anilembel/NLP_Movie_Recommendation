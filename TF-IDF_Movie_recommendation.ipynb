{
 "cells": [
  {
   "attachments": {},
   "cell_type": "markdown",
   "id": "bd661064",
   "metadata": {},
   "source": [
    "##  <p align=\"center\" style=\"background-color:#16A085; font-family:newtimeroman; color:#FFF9ED; font-size:125%; border-radius:10px 10px;\">Step 1 : IMPORTS</p>\n"
   ]
  },
  {
   "cell_type": "code",
   "execution_count": 2,
   "id": "b74696d2",
   "metadata": {
    "execution": {
     "iopub.execute_input": "2023-04-01T21:06:40.245220Z",
     "iopub.status.busy": "2023-04-01T21:06:40.244509Z",
     "iopub.status.idle": "2023-04-01T21:06:41.324463Z",
     "shell.execute_reply": "2023-04-01T21:06:41.323168Z"
    },
    "papermill": {
     "duration": 1.098487,
     "end_time": "2023-04-01T21:06:41.327564",
     "exception": false,
     "start_time": "2023-04-01T21:06:40.229077",
     "status": "completed"
    },
    "tags": []
   },
   "outputs": [],
   "source": [
    "import pandas as pd\n",
    "import numpy as np\n",
    "from sklearn.feature_extraction.text import TfidfVectorizer\n",
    "from sklearn.metrics.pairwise import cosine_similarity"
   ]
  },
  {
   "cell_type": "code",
   "execution_count": 3,
   "id": "da749694",
   "metadata": {
    "execution": {
     "iopub.execute_input": "2023-04-01T21:06:41.359058Z",
     "iopub.status.busy": "2023-04-01T21:06:41.358631Z",
     "iopub.status.idle": "2023-04-01T21:06:42.534644Z",
     "shell.execute_reply": "2023-04-01T21:06:42.533578Z"
    },
    "papermill": {
     "duration": 1.195113,
     "end_time": "2023-04-01T21:06:42.537406",
     "exception": false,
     "start_time": "2023-04-01T21:06:41.342293",
     "status": "completed"
    },
    "tags": []
   },
   "outputs": [],
   "source": [
    "df = pd.read_csv('/Users/anilfurkanembel/Desktop/Raw Datas/movies_metadata.csv', low_memory=False)"
   ]
  },
  {
   "attachments": {},
   "cell_type": "markdown",
   "id": "1348bb8d",
   "metadata": {
    "papermill": {
     "duration": 0.014436,
     "end_time": "2023-04-01T21:06:42.566493",
     "exception": false,
     "start_time": "2023-04-01T21:06:42.552057",
     "status": "completed"
    },
    "tags": []
   },
   "source": [
    "##  <p align=\"center\" style=\"background-color:#16A085; font-family:newtimeroman; color:#FFF9ED; font-size:125%; border-radius:10px 10px;\">Step 2 :  EDA(Exploratory Data Analysis) </p>\n"
   ]
  },
  {
   "cell_type": "markdown",
   "id": "be00645e",
   "metadata": {
    "papermill": {
     "duration": 0.015007,
     "end_time": "2023-04-01T21:06:42.977734",
     "exception": false,
     "start_time": "2023-04-01T21:06:42.962727",
     "status": "completed"
    },
    "tags": []
   },
   "source": [
    "\n",
    "We drop empty and duplicate data"
   ]
  },
  {
   "cell_type": "code",
   "execution_count": 4,
   "id": "f599e378",
   "metadata": {
    "execution": {
     "iopub.execute_input": "2023-04-01T21:06:43.010489Z",
     "iopub.status.busy": "2023-04-01T21:06:43.009719Z",
     "iopub.status.idle": "2023-04-01T21:06:43.083756Z",
     "shell.execute_reply": "2023-04-01T21:06:43.082865Z"
    },
    "papermill": {
     "duration": 0.093377,
     "end_time": "2023-04-01T21:06:43.086360",
     "exception": false,
     "start_time": "2023-04-01T21:06:42.992983",
     "status": "completed"
    },
    "tags": []
   },
   "outputs": [],
   "source": [
    "df = df[~df[\"title\"].duplicated(keep='last')]\n",
    "df = df[~df[\"title\"].isna()]\n",
    "df = df[~df[\"overview\"].isna()]"
   ]
  },
  {
   "cell_type": "markdown",
   "id": "e36db25d",
   "metadata": {
    "papermill": {
     "duration": 0.014916,
     "end_time": "2023-04-01T21:06:43.116137",
     "exception": false,
     "start_time": "2023-04-01T21:06:43.101221",
     "status": "completed"
    },
    "tags": []
   },
   "source": [
    "We should remove the stop words in the text\n",
    "\n",
    "**Stop Words**\n",
    "\n",
    "Stop words are common words that are often removed from text during natural language processing because they are not considered to be meaningful in determining the overall meaning of a sentence or document. Stop words include words such as \"the\", \"a\", \"an\", \"and\", \"in\", \"of\", \"to\", \"that\", \"it\", and \"for\"."
   ]
  },
  {
   "cell_type": "markdown",
   "id": "d1e52138",
   "metadata": {
    "papermill": {
     "duration": 0.015439,
     "end_time": "2023-04-01T21:06:43.147049",
     "exception": false,
     "start_time": "2023-04-01T21:06:43.131610",
     "status": "completed"
    },
    "tags": []
   },
   "source": [
    "# Creating the TF-IDF Matrix\n",
    "\n"
   ]
  },
  {
   "cell_type": "code",
   "execution_count": 5,
   "id": "82aeea94",
   "metadata": {
    "execution": {
     "iopub.execute_input": "2023-04-01T21:06:43.179457Z",
     "iopub.status.busy": "2023-04-01T21:06:43.178723Z",
     "iopub.status.idle": "2023-04-01T21:06:45.460059Z",
     "shell.execute_reply": "2023-04-01T21:06:45.458872Z"
    },
    "papermill": {
     "duration": 2.300911,
     "end_time": "2023-04-01T21:06:45.463008",
     "exception": false,
     "start_time": "2023-04-01T21:06:43.162097",
     "status": "completed"
    },
    "tags": []
   },
   "outputs": [
    {
     "name": "stdout",
     "output_type": "stream",
     "text": [
      "(41344, 73955)\n"
     ]
    }
   ],
   "source": [
    "tfidf = TfidfVectorizer(stop_words=\"english\")\n",
    "\n",
    "tfidf_matrix = tfidf.fit_transform(df['overview'])\n",
    "\n",
    "print(tfidf_matrix.shape)"
   ]
  },
  {
   "cell_type": "markdown",
   "id": "d0dbe67b",
   "metadata": {
    "papermill": {
     "duration": 0.017506,
     "end_time": "2023-04-01T21:06:45.495739",
     "exception": false,
     "start_time": "2023-04-01T21:06:45.478233",
     "status": "completed"
    },
    "tags": []
   },
   "source": [
    "Shape: (41344, 73955)\n",
    "\n",
    "41344:  Overviews so Movies\n",
    "\n",
    "73955: Words\n",
    "\n",
    "Value: TF-IDF Scores\n"
   ]
  },
  {
   "cell_type": "code",
   "execution_count": 6,
   "id": "3ebe11d7",
   "metadata": {
    "execution": {
     "iopub.execute_input": "2023-04-01T21:06:45.569783Z",
     "iopub.status.busy": "2023-04-01T21:06:45.569415Z",
     "iopub.status.idle": "2023-04-01T21:06:45.573827Z",
     "shell.execute_reply": "2023-04-01T21:06:45.572636Z"
    },
    "papermill": {
     "duration": 0.02401,
     "end_time": "2023-04-01T21:06:45.576115",
     "exception": false,
     "start_time": "2023-04-01T21:06:45.552105",
     "status": "completed"
    },
    "tags": []
   },
   "outputs": [],
   "source": [
    "## tfidf_matrix.toarray() # TF-IDF Scores"
   ]
  },
  {
   "cell_type": "code",
   "execution_count": 7,
   "id": "f161b99d",
   "metadata": {
    "execution": {
     "iopub.execute_input": "2023-04-01T21:06:45.609406Z",
     "iopub.status.busy": "2023-04-01T21:06:45.609021Z",
     "iopub.status.idle": "2023-04-01T21:06:45.660477Z",
     "shell.execute_reply": "2023-04-01T21:06:45.659460Z"
    },
    "papermill": {
     "duration": 0.07198,
     "end_time": "2023-04-01T21:06:45.663177",
     "exception": false,
     "start_time": "2023-04-01T21:06:45.591197",
     "status": "completed"
    },
    "tags": []
   },
   "outputs": [],
   "source": [
    "tfidf_matrix = tfidf_matrix.astype(np.float32) # it's too big so it's very difficult to process so i halved the size"
   ]
  },
  {
   "attachments": {
    "53a83af1-6e68-4c61-8ed7-c8e8b35491e7.png": {
     "image/png": "[encoded data removed]"
    }
   },
   "cell_type": "markdown",
   "id": "bbada43f",
   "metadata": {
    "papermill": {
     "duration": 0.014647,
     "end_time": "2023-04-01T21:06:45.692503",
     "exception": false,
     "start_time": "2023-04-01T21:06:45.677856",
     "status": "completed"
    },
    "tags": []
   },
   "source": [
    "# Creating the Cosine Similarity Matrix\n",
    "\n",
    "![cosine-equation.png](attachment:53a83af1-6e68-4c61-8ed7-c8e8b35491e7.png)\n",
    "\n",
    "Cosine similarity is one of the metric to measure the text-similarity between two documents irrespective of their size in Natural language Processing. A word is represented into a vector form. The text documents are represented in n-dimensional vector space.\n"
   ]
  },
  {
   "cell_type": "code",
   "execution_count": 8,
   "id": "01b35df8",
   "metadata": {
    "execution": {
     "iopub.execute_input": "2023-04-01T21:06:45.724042Z",
     "iopub.status.busy": "2023-04-01T21:06:45.723621Z",
     "iopub.status.idle": "2023-04-01T21:07:10.111117Z",
     "shell.execute_reply": "2023-04-01T21:07:10.109607Z"
    },
    "papermill": {
     "duration": 24.406241,
     "end_time": "2023-04-01T21:07:10.113764",
     "exception": false,
     "start_time": "2023-04-01T21:06:45.707523",
     "status": "completed"
    },
    "tags": []
   },
   "outputs": [],
   "source": [
    "cosine_sim = cosine_similarity(tfidf_matrix,\n",
    "                               tfidf_matrix)\n",
    "\n",
    "print(cosine_sim.shape)\n",
    "cosine_sim[1]"
   ]
  },
  {
   "cell_type": "markdown",
   "id": "7a3c5b80",
   "metadata": {
    "papermill": {
     "duration": 0.014712,
     "end_time": "2023-04-01T21:07:10.143542",
     "exception": false,
     "start_time": "2023-04-01T21:07:10.128830",
     "status": "completed"
    },
    "tags": []
   },
   "source": [
    "shape: (41344, 41344) \n",
    "\n",
    "41344: movies"
   ]
  },
  {
   "cell_type": "markdown",
   "id": "8e85cab2",
   "metadata": {
    "papermill": {
     "duration": 0.014661,
     "end_time": "2023-04-01T21:07:10.173247",
     "exception": false,
     "start_time": "2023-04-01T21:07:10.158586",
     "status": "completed"
    },
    "tags": []
   },
   "source": [
    "# Making Suggestions Based on Similarities"
   ]
  },
  {
   "cell_type": "code",
   "execution_count": null,
   "id": "0b491729",
   "metadata": {
    "execution": {
     "iopub.execute_input": "2023-04-01T21:07:10.205350Z",
     "iopub.status.busy": "2023-04-01T21:07:10.204943Z",
     "iopub.status.idle": "2023-04-01T21:07:10.216823Z",
     "shell.execute_reply": "2023-04-01T21:07:10.215728Z"
    },
    "papermill": {
     "duration": 0.031023,
     "end_time": "2023-04-01T21:07:10.219347",
     "exception": false,
     "start_time": "2023-04-01T21:07:10.188324",
     "status": "completed"
    },
    "tags": []
   },
   "outputs": [],
   "source": [
    "indices = pd.Series(df.index, index=df['title'])"
   ]
  },
  {
   "cell_type": "code",
   "execution_count": null,
   "id": "7e82cf2e",
   "metadata": {
    "execution": {
     "iopub.execute_input": "2023-04-01T21:07:10.251299Z",
     "iopub.status.busy": "2023-04-01T21:07:10.250887Z",
     "iopub.status.idle": "2023-04-01T21:07:10.256948Z",
     "shell.execute_reply": "2023-04-01T21:07:10.256284Z"
    },
    "papermill": {
     "duration": 0.024855,
     "end_time": "2023-04-01T21:07:10.259287",
     "exception": false,
     "start_time": "2023-04-01T21:07:10.234432",
     "status": "completed"
    },
    "tags": []
   },
   "outputs": [
    {
     "data": {
      "text/plain": [
       "array([0., 0., 0., ..., 0., 0., 0.], dtype=float32)"
      ]
     },
     "execution_count": 12,
     "metadata": {},
     "output_type": "execute_result"
    }
   ],
   "source": [
    "movie_index = indices[\"Deadpool\"]\n",
    "\n",
    "cosine_sim[movie_index]"
   ]
  },
  {
   "cell_type": "code",
   "execution_count": null,
   "id": "f168ef96",
   "metadata": {
    "execution": {
     "iopub.execute_input": "2023-04-01T21:07:10.291504Z",
     "iopub.status.busy": "2023-04-01T21:07:10.291088Z",
     "iopub.status.idle": "2023-04-01T21:07:10.303644Z",
     "shell.execute_reply": "2023-04-01T21:07:10.302218Z"
    },
    "papermill": {
     "duration": 0.032019,
     "end_time": "2023-04-01T21:07:10.306417",
     "exception": false,
     "start_time": "2023-04-01T21:07:10.274398",
     "status": "completed"
    },
    "tags": []
   },
   "outputs": [
    {
     "data": {
      "text/html": [
       "<div>\n",
       "<style scoped>\n",
       "    .dataframe tbody tr th:only-of-type {\n",
       "        vertical-align: middle;\n",
       "    }\n",
       "\n",
       "    .dataframe tbody tr th {\n",
       "        vertical-align: top;\n",
       "    }\n",
       "\n",
       "    .dataframe thead th {\n",
       "        text-align: right;\n",
       "    }\n",
       "</style>\n",
       "<table border=\"1\" class=\"dataframe\">\n",
       "  <thead>\n",
       "    <tr style=\"text-align: right;\">\n",
       "      <th></th>\n",
       "      <th>score</th>\n",
       "    </tr>\n",
       "  </thead>\n",
       "  <tbody>\n",
       "    <tr>\n",
       "      <th>0</th>\n",
       "      <td>0.000000</td>\n",
       "    </tr>\n",
       "    <tr>\n",
       "      <th>1</th>\n",
       "      <td>0.000000</td>\n",
       "    </tr>\n",
       "    <tr>\n",
       "      <th>2</th>\n",
       "      <td>0.000000</td>\n",
       "    </tr>\n",
       "    <tr>\n",
       "      <th>3</th>\n",
       "      <td>0.008761</td>\n",
       "    </tr>\n",
       "    <tr>\n",
       "      <th>4</th>\n",
       "      <td>0.025076</td>\n",
       "    </tr>\n",
       "    <tr>\n",
       "      <th>...</th>\n",
       "      <td>...</td>\n",
       "    </tr>\n",
       "    <tr>\n",
       "      <th>41339</th>\n",
       "      <td>0.000000</td>\n",
       "    </tr>\n",
       "    <tr>\n",
       "      <th>41340</th>\n",
       "      <td>0.038174</td>\n",
       "    </tr>\n",
       "    <tr>\n",
       "      <th>41341</th>\n",
       "      <td>0.000000</td>\n",
       "    </tr>\n",
       "    <tr>\n",
       "      <th>41342</th>\n",
       "      <td>0.000000</td>\n",
       "    </tr>\n",
       "    <tr>\n",
       "      <th>41343</th>\n",
       "      <td>0.000000</td>\n",
       "    </tr>\n",
       "  </tbody>\n",
       "</table>\n",
       "<p>41344 rows × 1 columns</p>\n",
       "</div>"
      ],
      "text/plain": [
       "          score\n",
       "0      0.000000\n",
       "1      0.000000\n",
       "2      0.000000\n",
       "3      0.008761\n",
       "4      0.025076\n",
       "...         ...\n",
       "41339  0.000000\n",
       "41340  0.038174\n",
       "41341  0.000000\n",
       "41342  0.000000\n",
       "41343  0.000000\n",
       "\n",
       "[41344 rows x 1 columns]"
      ]
     },
     "execution_count": 13,
     "metadata": {},
     "output_type": "execute_result"
    }
   ],
   "source": [
    "similarity_scores = pd.DataFrame(cosine_sim[movie_index], columns=[\"score\"])\n",
    "similarity_scores"
   ]
  },
  {
   "cell_type": "markdown",
   "id": "ab4b8a4e",
   "metadata": {
    "papermill": {
     "duration": 0.015567,
     "end_time": "2023-04-01T21:07:10.337817",
     "exception": false,
     "start_time": "2023-04-01T21:07:10.322250",
     "status": "completed"
    },
    "tags": []
   },
   "source": [
    "All similarity scores of Toy Story movie and other movies."
   ]
  },
  {
   "cell_type": "code",
   "execution_count": null,
   "id": "858923a5",
   "metadata": {
    "execution": {
     "iopub.execute_input": "2023-04-01T21:07:10.371610Z",
     "iopub.status.busy": "2023-04-01T21:07:10.370298Z",
     "iopub.status.idle": "2023-04-01T21:07:10.383888Z",
     "shell.execute_reply": "2023-04-01T21:07:10.382820Z"
    },
    "papermill": {
     "duration": 0.032628,
     "end_time": "2023-04-01T21:07:10.386008",
     "exception": false,
     "start_time": "2023-04-01T21:07:10.353380",
     "status": "completed"
    },
    "tags": []
   },
   "outputs": [
    {
     "name": "stdout",
     "output_type": "stream",
     "text": [
      "Int64Index([29189, 26559, 24579, 8601, 15219, 37401, 19420, 26566, 22233,\n",
      "            23821],\n",
      "           dtype='int64')\n"
     ]
    }
   ],
   "source": [
    "print(similarity_scores.sort_values(\"score\", ascending=False)[1:11].index)\n",
    "movie_indices = similarity_scores.sort_values(\"score\", ascending=False)[1:11].index"
   ]
  },
  {
   "cell_type": "code",
   "execution_count": null,
   "id": "b9fa48f4",
   "metadata": {
    "execution": {
     "iopub.execute_input": "2023-04-01T21:07:10.419430Z",
     "iopub.status.busy": "2023-04-01T21:07:10.418852Z",
     "iopub.status.idle": "2023-04-01T21:07:10.427848Z",
     "shell.execute_reply": "2023-04-01T21:07:10.426692Z"
    },
    "papermill": {
     "duration": 0.028667,
     "end_time": "2023-04-01T21:07:10.430389",
     "exception": false,
     "start_time": "2023-04-01T21:07:10.401722",
     "status": "completed"
    },
    "tags": []
   },
   "outputs": [
    {
     "data": {
      "text/plain": [
       "32570                       Hero's Island\n",
       "29680              Barbie: A Fairy Secret\n",
       "27537         Barbie: A Fashion Fairytale\n",
       "9944                        First Desires\n",
       "17296                       Your Highness\n",
       "41318    7 Days of Himawari & Her Puppies\n",
       "21874                     Bloody New Year\n",
       "29687     Barbie and the Three Musketeers\n",
       "24967         An Empress and the Warriors\n",
       "26728              Return to Nim's Island\n",
       "Name: title, dtype: object"
      ]
     },
     "execution_count": 15,
     "metadata": {},
     "output_type": "execute_result"
    }
   ],
   "source": [
    "df['title'].iloc[movie_indices]"
   ]
  },
  {
   "cell_type": "markdown",
   "id": "650b1f87",
   "metadata": {
    "papermill": {
     "duration": 0.015798,
     "end_time": "2023-04-01T21:07:10.461927",
     "exception": false,
     "start_time": "2023-04-01T21:07:10.446129",
     "status": "completed"
    },
    "tags": []
   },
   "source": [
    "That's it, if you like Toy Story movie, here are 10 similar movies for you :D\n",
    "\n",
    "Don't forget to vote :)"
   ]
  }
 ],
 "metadata": {
  "kernelspec": {
   "display_name": "Python 3",
   "language": "python",
   "name": "python3"
  },
  "language_info": {
   "codemirror_mode": {
    "name": "ipython",
    "version": 3
   },
   "file_extension": ".py",
   "mimetype": "text/x-python",
   "name": "python",
   "nbconvert_exporter": "python",
   "pygments_lexer": "ipython3",
   "version": "3.11.1"
  },
  "papermill": {
   "default_parameters": {},
   "duration": 41.669884,
   "end_time": "2023-04-01T21:07:11.702179",
   "environment_variables": {},
   "exception": null,
   "input_path": "__notebook__.ipynb",
   "output_path": "__notebook__.ipynb",
   "parameters": {},
   "start_time": "2023-04-01T21:06:30.032295",
   "version": "2.4.0"
  },
  "vscode": {
   "interpreter": {
    "hash": "aee8b7b246df8f9039afb4144a1f6fd8d2ca17a180786b69acc140d282b71a49"
   }
  }
 },
 "nbformat": 4,
 "nbformat_minor": 5
}
