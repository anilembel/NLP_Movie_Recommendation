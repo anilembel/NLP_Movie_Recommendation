{
 "cells": [
  {
   "attachments": {},
   "cell_type": "markdown",
   "id": "653a6e3a",
   "metadata": {},
   "source": [
    "IMPORT"
   ]
  },
  {
   "cell_type": "code",
   "execution_count": 1,
   "id": "b74696d2",
   "metadata": {
    "execution": {
     "iopub.execute_input": "2023-04-01T21:06:40.245220Z",
     "iopub.status.busy": "2023-04-01T21:06:40.244509Z",
     "iopub.status.idle": "2023-04-01T21:06:41.324463Z",
     "shell.execute_reply": "2023-04-01T21:06:41.323168Z"
    },
    "papermill": {
     "duration": 1.098487,
     "end_time": "2023-04-01T21:06:41.327564",
     "exception": false,
     "start_time": "2023-04-01T21:06:40.229077",
     "status": "completed"
    },
    "tags": []
   },
   "outputs": [],
   "source": [
    "import pandas as pd\n",
    "import numpy as np\n",
    "from sklearn.feature_extraction.text import TfidfVectorizer\n",
    "from sklearn.metrics.pairwise import cosine_similarity"
   ]
  },
  {
   "cell_type": "code",
   "execution_count": 2,
   "id": "da749694",
   "metadata": {
    "execution": {
     "iopub.execute_input": "2023-04-01T21:06:41.359058Z",
     "iopub.status.busy": "2023-04-01T21:06:41.358631Z",
     "iopub.status.idle": "2023-04-01T21:06:42.534644Z",
     "shell.execute_reply": "2023-04-01T21:06:42.533578Z"
    },
    "papermill": {
     "duration": 1.195113,
     "end_time": "2023-04-01T21:06:42.537406",
     "exception": false,
     "start_time": "2023-04-01T21:06:41.342293",
     "status": "completed"
    },
    "tags": []
   },
   "outputs": [],
   "source": [
    "df = pd.read_csv('/Users/anilfurkanembel/Desktop/Raw Datas/movies_metadata.csv', low_memory=False)"
   ]
  },
  {
   "cell_type": "markdown",
   "id": "1348bb8d",
   "metadata": {
    "papermill": {
     "duration": 0.014436,
     "end_time": "2023-04-01T21:06:42.566493",
     "exception": false,
     "start_time": "2023-04-01T21:06:42.552057",
     "status": "completed"
    },
    "tags": []
   },
   "source": [
    "# EDA(Exploratory Data Analysis)"
   ]
  },
  {
   "cell_type": "code",
   "execution_count": 3,
   "id": "3808cfb0",
   "metadata": {
    "execution": {
     "iopub.execute_input": "2023-04-01T21:06:42.597542Z",
     "iopub.status.busy": "2023-04-01T21:06:42.597127Z",
     "iopub.status.idle": "2023-04-01T21:06:42.871088Z",
     "shell.execute_reply": "2023-04-01T21:06:42.869439Z"
    },
    "papermill": {
     "duration": 0.292578,
     "end_time": "2023-04-01T21:06:42.873753",
     "exception": false,
     "start_time": "2023-04-01T21:06:42.581175",
     "status": "completed"
    },
    "tags": []
   },
   "outputs": [
    {
     "name": "stdout",
     "output_type": "stream",
     "text": [
      "\n",
      "    \n",
      "    -- Info --\n",
      "    \n",
      "    adult                     object\n",
      "belongs_to_collection     object\n",
      "budget                    object\n",
      "genres                    object\n",
      "homepage                  object\n",
      "id                        object\n",
      "imdb_id                   object\n",
      "original_language         object\n",
      "original_title            object\n",
      "overview                  object\n",
      "popularity                object\n",
      "poster_path               object\n",
      "production_companies      object\n",
      "production_countries      object\n",
      "release_date              object\n",
      "revenue                  float64\n",
      "runtime                  float64\n",
      "spoken_languages          object\n",
      "status                    object\n",
      "tagline                   object\n",
      "title                     object\n",
      "video                     object\n",
      "vote_average             float64\n",
      "vote_count               float64\n",
      "dtype: object\n",
      "    \n",
      "    -- NaN Values --\n",
      "    \n",
      "    adult                        0\n",
      "belongs_to_collection    40972\n",
      "budget                       0\n",
      "genres                       0\n",
      "homepage                 37684\n",
      "id                           0\n",
      "imdb_id                     17\n",
      "original_language           11\n",
      "original_title               0\n",
      "overview                   954\n",
      "popularity                   5\n",
      "poster_path                386\n",
      "production_companies         3\n",
      "production_countries         3\n",
      "release_date                87\n",
      "revenue                      6\n",
      "runtime                    263\n",
      "spoken_languages             6\n",
      "status                      87\n",
      "tagline                  25054\n",
      "title                        6\n",
      "video                        6\n",
      "vote_average                 6\n",
      "vote_count                   6\n",
      "dtype: int64\n",
      "    \n",
      "    -- Shape --\n",
      "    \n",
      "    (45466, 24)\n",
      "    \n",
      "    -- Unique --\n",
      "    \n",
      "    adult                        5\n",
      "belongs_to_collection     1698\n",
      "budget                    1226\n",
      "genres                    4069\n",
      "homepage                  7673\n",
      "id                       45436\n",
      "imdb_id                  45417\n",
      "original_language           92\n",
      "original_title           43373\n",
      "overview                 44307\n",
      "popularity               43758\n",
      "poster_path              45024\n",
      "production_companies     22708\n",
      "production_countries      2393\n",
      "release_date             17336\n",
      "revenue                   6863\n",
      "runtime                    353\n",
      "spoken_languages          1931\n",
      "status                       6\n",
      "tagline                  20283\n",
      "title                    42277\n",
      "video                        2\n",
      "vote_average                92\n",
      "vote_count                1820\n",
      "dtype: int64\n",
      "    \n",
      "    -- Head --\n",
      "    \n"
     ]
    },
    {
     "data": {
      "text/html": [
       "<div>\n",
       "<style scoped>\n",
       "    .dataframe tbody tr th:only-of-type {\n",
       "        vertical-align: middle;\n",
       "    }\n",
       "\n",
       "    .dataframe tbody tr th {\n",
       "        vertical-align: top;\n",
       "    }\n",
       "\n",
       "    .dataframe thead th {\n",
       "        text-align: right;\n",
       "    }\n",
       "</style>\n",
       "<table border=\"1\" class=\"dataframe\">\n",
       "  <thead>\n",
       "    <tr style=\"text-align: right;\">\n",
       "      <th></th>\n",
       "      <th>adult</th>\n",
       "      <th>belongs_to_collection</th>\n",
       "      <th>budget</th>\n",
       "      <th>genres</th>\n",
       "      <th>homepage</th>\n",
       "      <th>id</th>\n",
       "      <th>imdb_id</th>\n",
       "      <th>original_language</th>\n",
       "      <th>original_title</th>\n",
       "      <th>overview</th>\n",
       "      <th>...</th>\n",
       "      <th>release_date</th>\n",
       "      <th>revenue</th>\n",
       "      <th>runtime</th>\n",
       "      <th>spoken_languages</th>\n",
       "      <th>status</th>\n",
       "      <th>tagline</th>\n",
       "      <th>title</th>\n",
       "      <th>video</th>\n",
       "      <th>vote_average</th>\n",
       "      <th>vote_count</th>\n",
       "    </tr>\n",
       "  </thead>\n",
       "  <tbody>\n",
       "    <tr>\n",
       "      <th>0</th>\n",
       "      <td>False</td>\n",
       "      <td>{'id': 10194, 'name': 'Toy Story Collection', ...</td>\n",
       "      <td>30000000</td>\n",
       "      <td>[{'id': 16, 'name': 'Animation'}, {'id': 35, '...</td>\n",
       "      <td>http://toystory.disney.com/toy-story</td>\n",
       "      <td>862</td>\n",
       "      <td>tt0114709</td>\n",
       "      <td>en</td>\n",
       "      <td>Toy Story</td>\n",
       "      <td>Led by Woody, Andy's toys live happily in his ...</td>\n",
       "      <td>...</td>\n",
       "      <td>1995-10-30</td>\n",
       "      <td>373554033.0</td>\n",
       "      <td>81.0</td>\n",
       "      <td>[{'iso_639_1': 'en', 'name': 'English'}]</td>\n",
       "      <td>Released</td>\n",
       "      <td>NaN</td>\n",
       "      <td>Toy Story</td>\n",
       "      <td>False</td>\n",
       "      <td>7.7</td>\n",
       "      <td>5415.0</td>\n",
       "    </tr>\n",
       "    <tr>\n",
       "      <th>1</th>\n",
       "      <td>False</td>\n",
       "      <td>NaN</td>\n",
       "      <td>65000000</td>\n",
       "      <td>[{'id': 12, 'name': 'Adventure'}, {'id': 14, '...</td>\n",
       "      <td>NaN</td>\n",
       "      <td>8844</td>\n",
       "      <td>tt0113497</td>\n",
       "      <td>en</td>\n",
       "      <td>Jumanji</td>\n",
       "      <td>When siblings Judy and Peter discover an encha...</td>\n",
       "      <td>...</td>\n",
       "      <td>1995-12-15</td>\n",
       "      <td>262797249.0</td>\n",
       "      <td>104.0</td>\n",
       "      <td>[{'iso_639_1': 'en', 'name': 'English'}, {'iso...</td>\n",
       "      <td>Released</td>\n",
       "      <td>Roll the dice and unleash the excitement!</td>\n",
       "      <td>Jumanji</td>\n",
       "      <td>False</td>\n",
       "      <td>6.9</td>\n",
       "      <td>2413.0</td>\n",
       "    </tr>\n",
       "    <tr>\n",
       "      <th>2</th>\n",
       "      <td>False</td>\n",
       "      <td>{'id': 119050, 'name': 'Grumpy Old Men Collect...</td>\n",
       "      <td>0</td>\n",
       "      <td>[{'id': 10749, 'name': 'Romance'}, {'id': 35, ...</td>\n",
       "      <td>NaN</td>\n",
       "      <td>15602</td>\n",
       "      <td>tt0113228</td>\n",
       "      <td>en</td>\n",
       "      <td>Grumpier Old Men</td>\n",
       "      <td>A family wedding reignites the ancient feud be...</td>\n",
       "      <td>...</td>\n",
       "      <td>1995-12-22</td>\n",
       "      <td>0.0</td>\n",
       "      <td>101.0</td>\n",
       "      <td>[{'iso_639_1': 'en', 'name': 'English'}]</td>\n",
       "      <td>Released</td>\n",
       "      <td>Still Yelling. Still Fighting. Still Ready for...</td>\n",
       "      <td>Grumpier Old Men</td>\n",
       "      <td>False</td>\n",
       "      <td>6.5</td>\n",
       "      <td>92.0</td>\n",
       "    </tr>\n",
       "    <tr>\n",
       "      <th>3</th>\n",
       "      <td>False</td>\n",
       "      <td>NaN</td>\n",
       "      <td>16000000</td>\n",
       "      <td>[{'id': 35, 'name': 'Comedy'}, {'id': 18, 'nam...</td>\n",
       "      <td>NaN</td>\n",
       "      <td>31357</td>\n",
       "      <td>tt0114885</td>\n",
       "      <td>en</td>\n",
       "      <td>Waiting to Exhale</td>\n",
       "      <td>Cheated on, mistreated and stepped on, the wom...</td>\n",
       "      <td>...</td>\n",
       "      <td>1995-12-22</td>\n",
       "      <td>81452156.0</td>\n",
       "      <td>127.0</td>\n",
       "      <td>[{'iso_639_1': 'en', 'name': 'English'}]</td>\n",
       "      <td>Released</td>\n",
       "      <td>Friends are the people who let you be yourself...</td>\n",
       "      <td>Waiting to Exhale</td>\n",
       "      <td>False</td>\n",
       "      <td>6.1</td>\n",
       "      <td>34.0</td>\n",
       "    </tr>\n",
       "    <tr>\n",
       "      <th>4</th>\n",
       "      <td>False</td>\n",
       "      <td>{'id': 96871, 'name': 'Father of the Bride Col...</td>\n",
       "      <td>0</td>\n",
       "      <td>[{'id': 35, 'name': 'Comedy'}]</td>\n",
       "      <td>NaN</td>\n",
       "      <td>11862</td>\n",
       "      <td>tt0113041</td>\n",
       "      <td>en</td>\n",
       "      <td>Father of the Bride Part II</td>\n",
       "      <td>Just when George Banks has recovered from his ...</td>\n",
       "      <td>...</td>\n",
       "      <td>1995-02-10</td>\n",
       "      <td>76578911.0</td>\n",
       "      <td>106.0</td>\n",
       "      <td>[{'iso_639_1': 'en', 'name': 'English'}]</td>\n",
       "      <td>Released</td>\n",
       "      <td>Just When His World Is Back To Normal... He's ...</td>\n",
       "      <td>Father of the Bride Part II</td>\n",
       "      <td>False</td>\n",
       "      <td>5.7</td>\n",
       "      <td>173.0</td>\n",
       "    </tr>\n",
       "  </tbody>\n",
       "</table>\n",
       "<p>5 rows × 24 columns</p>\n",
       "</div>"
      ],
      "text/plain": [
       "   adult                              belongs_to_collection    budget  \\\n",
       "0  False  {'id': 10194, 'name': 'Toy Story Collection', ...  30000000   \n",
       "1  False                                                NaN  65000000   \n",
       "2  False  {'id': 119050, 'name': 'Grumpy Old Men Collect...         0   \n",
       "3  False                                                NaN  16000000   \n",
       "4  False  {'id': 96871, 'name': 'Father of the Bride Col...         0   \n",
       "\n",
       "                                              genres  \\\n",
       "0  [{'id': 16, 'name': 'Animation'}, {'id': 35, '...   \n",
       "1  [{'id': 12, 'name': 'Adventure'}, {'id': 14, '...   \n",
       "2  [{'id': 10749, 'name': 'Romance'}, {'id': 35, ...   \n",
       "3  [{'id': 35, 'name': 'Comedy'}, {'id': 18, 'nam...   \n",
       "4                     [{'id': 35, 'name': 'Comedy'}]   \n",
       "\n",
       "                               homepage     id    imdb_id original_language  \\\n",
       "0  http://toystory.disney.com/toy-story    862  tt0114709                en   \n",
       "1                                   NaN   8844  tt0113497                en   \n",
       "2                                   NaN  15602  tt0113228                en   \n",
       "3                                   NaN  31357  tt0114885                en   \n",
       "4                                   NaN  11862  tt0113041                en   \n",
       "\n",
       "                original_title  \\\n",
       "0                    Toy Story   \n",
       "1                      Jumanji   \n",
       "2             Grumpier Old Men   \n",
       "3            Waiting to Exhale   \n",
       "4  Father of the Bride Part II   \n",
       "\n",
       "                                            overview  ... release_date  \\\n",
       "0  Led by Woody, Andy's toys live happily in his ...  ...   1995-10-30   \n",
       "1  When siblings Judy and Peter discover an encha...  ...   1995-12-15   \n",
       "2  A family wedding reignites the ancient feud be...  ...   1995-12-22   \n",
       "3  Cheated on, mistreated and stepped on, the wom...  ...   1995-12-22   \n",
       "4  Just when George Banks has recovered from his ...  ...   1995-02-10   \n",
       "\n",
       "       revenue runtime                                   spoken_languages  \\\n",
       "0  373554033.0    81.0           [{'iso_639_1': 'en', 'name': 'English'}]   \n",
       "1  262797249.0   104.0  [{'iso_639_1': 'en', 'name': 'English'}, {'iso...   \n",
       "2          0.0   101.0           [{'iso_639_1': 'en', 'name': 'English'}]   \n",
       "3   81452156.0   127.0           [{'iso_639_1': 'en', 'name': 'English'}]   \n",
       "4   76578911.0   106.0           [{'iso_639_1': 'en', 'name': 'English'}]   \n",
       "\n",
       "     status                                            tagline  \\\n",
       "0  Released                                                NaN   \n",
       "1  Released          Roll the dice and unleash the excitement!   \n",
       "2  Released  Still Yelling. Still Fighting. Still Ready for...   \n",
       "3  Released  Friends are the people who let you be yourself...   \n",
       "4  Released  Just When His World Is Back To Normal... He's ...   \n",
       "\n",
       "                         title  video vote_average vote_count  \n",
       "0                    Toy Story  False          7.7     5415.0  \n",
       "1                      Jumanji  False          6.9     2413.0  \n",
       "2             Grumpier Old Men  False          6.5       92.0  \n",
       "3            Waiting to Exhale  False          6.1       34.0  \n",
       "4  Father of the Bride Part II  False          5.7      173.0  \n",
       "\n",
       "[5 rows x 24 columns]"
      ]
     },
     "execution_count": 3,
     "metadata": {},
     "output_type": "execute_result"
    }
   ],
   "source": [
    "def eda(dataframe):\n",
    "    print(f\"\"\"\n",
    "    \n",
    "    -- Info --\n",
    "    \n",
    "    {dataframe.dtypes}\n",
    "    \n",
    "    -- NaN Values --\n",
    "    \n",
    "    {dataframe.isnull().sum()}\n",
    "    \n",
    "    -- Shape --\n",
    "    \n",
    "    {dataframe.shape}\n",
    "    \n",
    "    -- Unique --\n",
    "    \n",
    "    {df.apply(lambda x: x.nunique())}\n",
    "    \n",
    "    -- Head --\n",
    "    \"\"\")\n",
    "    \n",
    "    \n",
    "    return dataframe.head()\n",
    "eda(df)"
   ]
  },
  {
   "cell_type": "code",
   "execution_count": 4,
   "id": "d7cfd85d",
   "metadata": {},
   "outputs": [
    {
     "data": {
      "text/html": [
       "<div>\n",
       "<style scoped>\n",
       "    .dataframe tbody tr th:only-of-type {\n",
       "        vertical-align: middle;\n",
       "    }\n",
       "\n",
       "    .dataframe tbody tr th {\n",
       "        vertical-align: top;\n",
       "    }\n",
       "\n",
       "    .dataframe thead th {\n",
       "        text-align: right;\n",
       "    }\n",
       "</style>\n",
       "<table border=\"1\" class=\"dataframe\">\n",
       "  <thead>\n",
       "    <tr style=\"text-align: right;\">\n",
       "      <th></th>\n",
       "      <th>adult</th>\n",
       "      <th>belongs_to_collection</th>\n",
       "      <th>budget</th>\n",
       "      <th>genres</th>\n",
       "      <th>homepage</th>\n",
       "      <th>id</th>\n",
       "      <th>imdb_id</th>\n",
       "      <th>original_language</th>\n",
       "      <th>original_title</th>\n",
       "      <th>overview</th>\n",
       "      <th>...</th>\n",
       "      <th>release_date</th>\n",
       "      <th>revenue</th>\n",
       "      <th>runtime</th>\n",
       "      <th>spoken_languages</th>\n",
       "      <th>status</th>\n",
       "      <th>tagline</th>\n",
       "      <th>title</th>\n",
       "      <th>video</th>\n",
       "      <th>vote_average</th>\n",
       "      <th>vote_count</th>\n",
       "    </tr>\n",
       "  </thead>\n",
       "  <tbody>\n",
       "    <tr>\n",
       "      <th>15480</th>\n",
       "      <td>False</td>\n",
       "      <td>NaN</td>\n",
       "      <td>160000000</td>\n",
       "      <td>[{'id': 28, 'name': 'Action'}, {'id': 53, 'nam...</td>\n",
       "      <td>http://inceptionmovie.warnerbros.com/</td>\n",
       "      <td>27205</td>\n",
       "      <td>tt1375666</td>\n",
       "      <td>en</td>\n",
       "      <td>Inception</td>\n",
       "      <td>Cobb, a skilled thief who commits corporate es...</td>\n",
       "      <td>...</td>\n",
       "      <td>2010-07-14</td>\n",
       "      <td>8.255328e+08</td>\n",
       "      <td>148.0</td>\n",
       "      <td>[{'iso_639_1': 'en', 'name': 'English'}]</td>\n",
       "      <td>Released</td>\n",
       "      <td>Your mind is the scene of the crime.</td>\n",
       "      <td>Inception</td>\n",
       "      <td>False</td>\n",
       "      <td>8.1</td>\n",
       "      <td>14075.0</td>\n",
       "    </tr>\n",
       "    <tr>\n",
       "      <th>12481</th>\n",
       "      <td>False</td>\n",
       "      <td>{'id': 263, 'name': 'The Dark Knight Collectio...</td>\n",
       "      <td>185000000</td>\n",
       "      <td>[{'id': 18, 'name': 'Drama'}, {'id': 28, 'name...</td>\n",
       "      <td>http://thedarkknight.warnerbros.com/dvdsite/</td>\n",
       "      <td>155</td>\n",
       "      <td>tt0468569</td>\n",
       "      <td>en</td>\n",
       "      <td>The Dark Knight</td>\n",
       "      <td>Batman raises the stakes in his war on crime. ...</td>\n",
       "      <td>...</td>\n",
       "      <td>2008-07-16</td>\n",
       "      <td>1.004558e+09</td>\n",
       "      <td>152.0</td>\n",
       "      <td>[{'iso_639_1': 'en', 'name': 'English'}, {'iso...</td>\n",
       "      <td>Released</td>\n",
       "      <td>Why So Serious?</td>\n",
       "      <td>The Dark Knight</td>\n",
       "      <td>False</td>\n",
       "      <td>8.3</td>\n",
       "      <td>12269.0</td>\n",
       "    </tr>\n",
       "    <tr>\n",
       "      <th>14551</th>\n",
       "      <td>False</td>\n",
       "      <td>{'id': 87096, 'name': 'Avatar Collection', 'po...</td>\n",
       "      <td>237000000</td>\n",
       "      <td>[{'id': 28, 'name': 'Action'}, {'id': 12, 'nam...</td>\n",
       "      <td>http://www.avatarmovie.com/</td>\n",
       "      <td>19995</td>\n",
       "      <td>tt0499549</td>\n",
       "      <td>en</td>\n",
       "      <td>Avatar</td>\n",
       "      <td>In the 22nd century, a paraplegic Marine is di...</td>\n",
       "      <td>...</td>\n",
       "      <td>2009-12-10</td>\n",
       "      <td>2.787965e+09</td>\n",
       "      <td>162.0</td>\n",
       "      <td>[{'iso_639_1': 'en', 'name': 'English'}, {'iso...</td>\n",
       "      <td>Released</td>\n",
       "      <td>Enter the World of Pandora.</td>\n",
       "      <td>Avatar</td>\n",
       "      <td>False</td>\n",
       "      <td>7.2</td>\n",
       "      <td>12114.0</td>\n",
       "    </tr>\n",
       "    <tr>\n",
       "      <th>17818</th>\n",
       "      <td>False</td>\n",
       "      <td>{'id': 86311, 'name': 'The Avengers Collection...</td>\n",
       "      <td>220000000</td>\n",
       "      <td>[{'id': 878, 'name': 'Science Fiction'}, {'id'...</td>\n",
       "      <td>http://marvel.com/avengers_movie/</td>\n",
       "      <td>24428</td>\n",
       "      <td>tt0848228</td>\n",
       "      <td>en</td>\n",
       "      <td>The Avengers</td>\n",
       "      <td>When an unexpected enemy emerges and threatens...</td>\n",
       "      <td>...</td>\n",
       "      <td>2012-04-25</td>\n",
       "      <td>1.519558e+09</td>\n",
       "      <td>143.0</td>\n",
       "      <td>[{'iso_639_1': 'en', 'name': 'English'}]</td>\n",
       "      <td>Released</td>\n",
       "      <td>Some assembly required.</td>\n",
       "      <td>The Avengers</td>\n",
       "      <td>False</td>\n",
       "      <td>7.4</td>\n",
       "      <td>12000.0</td>\n",
       "    </tr>\n",
       "    <tr>\n",
       "      <th>26564</th>\n",
       "      <td>False</td>\n",
       "      <td>{'id': 448150, 'name': 'Deadpool Collection', ...</td>\n",
       "      <td>58000000</td>\n",
       "      <td>[{'id': 28, 'name': 'Action'}, {'id': 12, 'nam...</td>\n",
       "      <td>http://www.foxmovies.com/movies/deadpool</td>\n",
       "      <td>293660</td>\n",
       "      <td>tt1431045</td>\n",
       "      <td>en</td>\n",
       "      <td>Deadpool</td>\n",
       "      <td>Deadpool tells the origin story of former Spec...</td>\n",
       "      <td>...</td>\n",
       "      <td>2016-02-09</td>\n",
       "      <td>7.831130e+08</td>\n",
       "      <td>108.0</td>\n",
       "      <td>[{'iso_639_1': 'en', 'name': 'English'}]</td>\n",
       "      <td>Released</td>\n",
       "      <td>Witness the beginning of a happy ending</td>\n",
       "      <td>Deadpool</td>\n",
       "      <td>False</td>\n",
       "      <td>7.4</td>\n",
       "      <td>11444.0</td>\n",
       "    </tr>\n",
       "    <tr>\n",
       "      <th>...</th>\n",
       "      <td>...</td>\n",
       "      <td>...</td>\n",
       "      <td>...</td>\n",
       "      <td>...</td>\n",
       "      <td>...</td>\n",
       "      <td>...</td>\n",
       "      <td>...</td>\n",
       "      <td>...</td>\n",
       "      <td>...</td>\n",
       "      <td>...</td>\n",
       "      <td>...</td>\n",
       "      <td>...</td>\n",
       "      <td>...</td>\n",
       "      <td>...</td>\n",
       "      <td>...</td>\n",
       "      <td>...</td>\n",
       "      <td>...</td>\n",
       "      <td>...</td>\n",
       "      <td>...</td>\n",
       "      <td>...</td>\n",
       "      <td>...</td>\n",
       "    </tr>\n",
       "    <tr>\n",
       "      <th>19730</th>\n",
       "      <td>- Written by Ørnås</td>\n",
       "      <td>0.065736</td>\n",
       "      <td>/ff9qCepilowshEtG2GYWwzt2bs4.jpg</td>\n",
       "      <td>[{'name': 'Carousel Productions', 'id': 11176}...</td>\n",
       "      <td>[{'iso_3166_1': 'CA', 'name': 'Canada'}, {'iso...</td>\n",
       "      <td>1997-08-20</td>\n",
       "      <td>0</td>\n",
       "      <td>104.0</td>\n",
       "      <td>[{'iso_639_1': 'en', 'name': 'English'}]</td>\n",
       "      <td>Released</td>\n",
       "      <td>...</td>\n",
       "      <td>1</td>\n",
       "      <td>NaN</td>\n",
       "      <td>NaN</td>\n",
       "      <td>NaN</td>\n",
       "      <td>NaN</td>\n",
       "      <td>NaN</td>\n",
       "      <td>NaN</td>\n",
       "      <td>NaN</td>\n",
       "      <td>NaN</td>\n",
       "      <td>NaN</td>\n",
       "    </tr>\n",
       "    <tr>\n",
       "      <th>29502</th>\n",
       "      <td>False</td>\n",
       "      <td>{'id': 122661, 'name': 'Mardock Scramble Colle...</td>\n",
       "      <td>0</td>\n",
       "      <td>[{'id': 16, 'name': 'Animation'}, {'id': 878, ...</td>\n",
       "      <td>http://m-scramble.jp/exhaust/</td>\n",
       "      <td>122662</td>\n",
       "      <td>tt2423504</td>\n",
       "      <td>ja</td>\n",
       "      <td>マルドゥック・スクランブル 排気</td>\n",
       "      <td>Third film of the Mardock Scramble series.</td>\n",
       "      <td>...</td>\n",
       "      <td>NaN</td>\n",
       "      <td>NaN</td>\n",
       "      <td>NaN</td>\n",
       "      <td>NaN</td>\n",
       "      <td>NaN</td>\n",
       "      <td>NaN</td>\n",
       "      <td>NaN</td>\n",
       "      <td>NaN</td>\n",
       "      <td>NaN</td>\n",
       "      <td>NaN</td>\n",
       "    </tr>\n",
       "    <tr>\n",
       "      <th>29503</th>\n",
       "      <td>Rune Balot goes to a casino connected to the ...</td>\n",
       "      <td>1.931659</td>\n",
       "      <td>/zV8bHuSL6WXoD6FWogP9j4x80bL.jpg</td>\n",
       "      <td>[{'name': 'Aniplex', 'id': 2883}, {'name': 'Go...</td>\n",
       "      <td>[{'iso_3166_1': 'US', 'name': 'United States o...</td>\n",
       "      <td>2012-09-29</td>\n",
       "      <td>0</td>\n",
       "      <td>68.0</td>\n",
       "      <td>[{'iso_639_1': 'ja', 'name': '日本語'}]</td>\n",
       "      <td>Released</td>\n",
       "      <td>...</td>\n",
       "      <td>12</td>\n",
       "      <td>NaN</td>\n",
       "      <td>NaN</td>\n",
       "      <td>NaN</td>\n",
       "      <td>NaN</td>\n",
       "      <td>NaN</td>\n",
       "      <td>NaN</td>\n",
       "      <td>NaN</td>\n",
       "      <td>NaN</td>\n",
       "      <td>NaN</td>\n",
       "    </tr>\n",
       "    <tr>\n",
       "      <th>35586</th>\n",
       "      <td>False</td>\n",
       "      <td>NaN</td>\n",
       "      <td>0</td>\n",
       "      <td>[{'id': 10770, 'name': 'TV Movie'}, {'id': 28,...</td>\n",
       "      <td>NaN</td>\n",
       "      <td>249260</td>\n",
       "      <td>tt2622826</td>\n",
       "      <td>en</td>\n",
       "      <td>Avalanche Sharks</td>\n",
       "      <td>A group of skiers are terrorized during spring...</td>\n",
       "      <td>...</td>\n",
       "      <td>NaN</td>\n",
       "      <td>NaN</td>\n",
       "      <td>NaN</td>\n",
       "      <td>NaN</td>\n",
       "      <td>NaN</td>\n",
       "      <td>NaN</td>\n",
       "      <td>NaN</td>\n",
       "      <td>NaN</td>\n",
       "      <td>NaN</td>\n",
       "      <td>NaN</td>\n",
       "    </tr>\n",
       "    <tr>\n",
       "      <th>35587</th>\n",
       "      <td>Avalanche Sharks tells the story of a bikini ...</td>\n",
       "      <td>2.185485</td>\n",
       "      <td>/zaSf5OG7V8X8gqFvly88zDdRm46.jpg</td>\n",
       "      <td>[{'name': 'Odyssey Media', 'id': 17161}, {'nam...</td>\n",
       "      <td>[{'iso_3166_1': 'CA', 'name': 'Canada'}]</td>\n",
       "      <td>2014-01-01</td>\n",
       "      <td>0</td>\n",
       "      <td>82.0</td>\n",
       "      <td>[{'iso_639_1': 'en', 'name': 'English'}]</td>\n",
       "      <td>Released</td>\n",
       "      <td>...</td>\n",
       "      <td>22</td>\n",
       "      <td>NaN</td>\n",
       "      <td>NaN</td>\n",
       "      <td>NaN</td>\n",
       "      <td>NaN</td>\n",
       "      <td>NaN</td>\n",
       "      <td>NaN</td>\n",
       "      <td>NaN</td>\n",
       "      <td>NaN</td>\n",
       "      <td>NaN</td>\n",
       "    </tr>\n",
       "  </tbody>\n",
       "</table>\n",
       "<p>45466 rows × 24 columns</p>\n",
       "</div>"
      ],
      "text/plain": [
       "                                                   adult  \\\n",
       "15480                                              False   \n",
       "12481                                              False   \n",
       "14551                                              False   \n",
       "17818                                              False   \n",
       "26564                                              False   \n",
       "...                                                  ...   \n",
       "19730                                 - Written by Ørnås   \n",
       "29502                                              False   \n",
       "29503   Rune Balot goes to a casino connected to the ...   \n",
       "35586                                              False   \n",
       "35587   Avalanche Sharks tells the story of a bikini ...   \n",
       "\n",
       "                                   belongs_to_collection  \\\n",
       "15480                                                NaN   \n",
       "12481  {'id': 263, 'name': 'The Dark Knight Collectio...   \n",
       "14551  {'id': 87096, 'name': 'Avatar Collection', 'po...   \n",
       "17818  {'id': 86311, 'name': 'The Avengers Collection...   \n",
       "26564  {'id': 448150, 'name': 'Deadpool Collection', ...   \n",
       "...                                                  ...   \n",
       "19730                                           0.065736   \n",
       "29502  {'id': 122661, 'name': 'Mardock Scramble Colle...   \n",
       "29503                                           1.931659   \n",
       "35586                                                NaN   \n",
       "35587                                           2.185485   \n",
       "\n",
       "                                 budget  \\\n",
       "15480                         160000000   \n",
       "12481                         185000000   \n",
       "14551                         237000000   \n",
       "17818                         220000000   \n",
       "26564                          58000000   \n",
       "...                                 ...   \n",
       "19730  /ff9qCepilowshEtG2GYWwzt2bs4.jpg   \n",
       "29502                                 0   \n",
       "29503  /zV8bHuSL6WXoD6FWogP9j4x80bL.jpg   \n",
       "35586                                 0   \n",
       "35587  /zaSf5OG7V8X8gqFvly88zDdRm46.jpg   \n",
       "\n",
       "                                                  genres  \\\n",
       "15480  [{'id': 28, 'name': 'Action'}, {'id': 53, 'nam...   \n",
       "12481  [{'id': 18, 'name': 'Drama'}, {'id': 28, 'name...   \n",
       "14551  [{'id': 28, 'name': 'Action'}, {'id': 12, 'nam...   \n",
       "17818  [{'id': 878, 'name': 'Science Fiction'}, {'id'...   \n",
       "26564  [{'id': 28, 'name': 'Action'}, {'id': 12, 'nam...   \n",
       "...                                                  ...   \n",
       "19730  [{'name': 'Carousel Productions', 'id': 11176}...   \n",
       "29502  [{'id': 16, 'name': 'Animation'}, {'id': 878, ...   \n",
       "29503  [{'name': 'Aniplex', 'id': 2883}, {'name': 'Go...   \n",
       "35586  [{'id': 10770, 'name': 'TV Movie'}, {'id': 28,...   \n",
       "35587  [{'name': 'Odyssey Media', 'id': 17161}, {'nam...   \n",
       "\n",
       "                                                homepage          id  \\\n",
       "15480              http://inceptionmovie.warnerbros.com/       27205   \n",
       "12481       http://thedarkknight.warnerbros.com/dvdsite/         155   \n",
       "14551                        http://www.avatarmovie.com/       19995   \n",
       "17818                  http://marvel.com/avengers_movie/       24428   \n",
       "26564           http://www.foxmovies.com/movies/deadpool      293660   \n",
       "...                                                  ...         ...   \n",
       "19730  [{'iso_3166_1': 'CA', 'name': 'Canada'}, {'iso...  1997-08-20   \n",
       "29502                      http://m-scramble.jp/exhaust/      122662   \n",
       "29503  [{'iso_3166_1': 'US', 'name': 'United States o...  2012-09-29   \n",
       "35586                                                NaN      249260   \n",
       "35587           [{'iso_3166_1': 'CA', 'name': 'Canada'}]  2014-01-01   \n",
       "\n",
       "         imdb_id original_language                            original_title  \\\n",
       "15480  tt1375666                en                                 Inception   \n",
       "12481  tt0468569                en                           The Dark Knight   \n",
       "14551  tt0499549                en                                    Avatar   \n",
       "17818  tt0848228                en                              The Avengers   \n",
       "26564  tt1431045                en                                  Deadpool   \n",
       "...          ...               ...                                       ...   \n",
       "19730          0             104.0  [{'iso_639_1': 'en', 'name': 'English'}]   \n",
       "29502  tt2423504                ja                          マルドゥック・スクランブル 排気   \n",
       "29503          0              68.0      [{'iso_639_1': 'ja', 'name': '日本語'}]   \n",
       "35586  tt2622826                en                          Avalanche Sharks   \n",
       "35587          0              82.0  [{'iso_639_1': 'en', 'name': 'English'}]   \n",
       "\n",
       "                                                overview  ... release_date  \\\n",
       "15480  Cobb, a skilled thief who commits corporate es...  ...   2010-07-14   \n",
       "12481  Batman raises the stakes in his war on crime. ...  ...   2008-07-16   \n",
       "14551  In the 22nd century, a paraplegic Marine is di...  ...   2009-12-10   \n",
       "17818  When an unexpected enemy emerges and threatens...  ...   2012-04-25   \n",
       "26564  Deadpool tells the origin story of former Spec...  ...   2016-02-09   \n",
       "...                                                  ...  ...          ...   \n",
       "19730                                           Released  ...            1   \n",
       "29502         Third film of the Mardock Scramble series.  ...          NaN   \n",
       "29503                                           Released  ...           12   \n",
       "35586  A group of skiers are terrorized during spring...  ...          NaN   \n",
       "35587                                           Released  ...           22   \n",
       "\n",
       "            revenue runtime  \\\n",
       "15480  8.255328e+08   148.0   \n",
       "12481  1.004558e+09   152.0   \n",
       "14551  2.787965e+09   162.0   \n",
       "17818  1.519558e+09   143.0   \n",
       "26564  7.831130e+08   108.0   \n",
       "...             ...     ...   \n",
       "19730           NaN     NaN   \n",
       "29502           NaN     NaN   \n",
       "29503           NaN     NaN   \n",
       "35586           NaN     NaN   \n",
       "35587           NaN     NaN   \n",
       "\n",
       "                                        spoken_languages    status  \\\n",
       "15480           [{'iso_639_1': 'en', 'name': 'English'}]  Released   \n",
       "12481  [{'iso_639_1': 'en', 'name': 'English'}, {'iso...  Released   \n",
       "14551  [{'iso_639_1': 'en', 'name': 'English'}, {'iso...  Released   \n",
       "17818           [{'iso_639_1': 'en', 'name': 'English'}]  Released   \n",
       "26564           [{'iso_639_1': 'en', 'name': 'English'}]  Released   \n",
       "...                                                  ...       ...   \n",
       "19730                                                NaN       NaN   \n",
       "29502                                                NaN       NaN   \n",
       "29503                                                NaN       NaN   \n",
       "35586                                                NaN       NaN   \n",
       "35587                                                NaN       NaN   \n",
       "\n",
       "                                       tagline            title  video  \\\n",
       "15480     Your mind is the scene of the crime.        Inception  False   \n",
       "12481                          Why So Serious?  The Dark Knight  False   \n",
       "14551              Enter the World of Pandora.           Avatar  False   \n",
       "17818                  Some assembly required.     The Avengers  False   \n",
       "26564  Witness the beginning of a happy ending         Deadpool  False   \n",
       "...                                        ...              ...    ...   \n",
       "19730                                      NaN              NaN    NaN   \n",
       "29502                                      NaN              NaN    NaN   \n",
       "29503                                      NaN              NaN    NaN   \n",
       "35586                                      NaN              NaN    NaN   \n",
       "35587                                      NaN              NaN    NaN   \n",
       "\n",
       "      vote_average vote_count  \n",
       "15480          8.1    14075.0  \n",
       "12481          8.3    12269.0  \n",
       "14551          7.2    12114.0  \n",
       "17818          7.4    12000.0  \n",
       "26564          7.4    11444.0  \n",
       "...            ...        ...  \n",
       "19730          NaN        NaN  \n",
       "29502          NaN        NaN  \n",
       "29503          NaN        NaN  \n",
       "35586          NaN        NaN  \n",
       "35587          NaN        NaN  \n",
       "\n",
       "[45466 rows x 24 columns]"
      ]
     },
     "execution_count": 4,
     "metadata": {},
     "output_type": "execute_result"
    }
   ],
   "source": [
    "df.sort_values(['vote_count', 'vote_average' ], ascending = False)\n"
   ]
  },
  {
   "cell_type": "markdown",
   "id": "e8a3d7dd",
   "metadata": {
    "papermill": {
     "duration": 0.014861,
     "end_time": "2023-04-01T21:06:42.903755",
     "exception": false,
     "start_time": "2023-04-01T21:06:42.888894",
     "status": "completed"
    },
    "tags": []
   },
   "source": [
    "We will use overview"
   ]
  },
  {
   "cell_type": "code",
   "execution_count": 5,
   "id": "dd8f43a1",
   "metadata": {
    "execution": {
     "iopub.execute_input": "2023-04-01T21:06:42.936265Z",
     "iopub.status.busy": "2023-04-01T21:06:42.935861Z",
     "iopub.status.idle": "2023-04-01T21:06:42.945369Z",
     "shell.execute_reply": "2023-04-01T21:06:42.944173Z"
    },
    "papermill": {
     "duration": 0.028768,
     "end_time": "2023-04-01T21:06:42.947704",
     "exception": false,
     "start_time": "2023-04-01T21:06:42.918936",
     "status": "completed"
    },
    "tags": []
   },
   "outputs": [
    {
     "data": {
      "text/plain": [
       "0    Led by Woody, Andy's toys live happily in his ...\n",
       "1    When siblings Judy and Peter discover an encha...\n",
       "2    A family wedding reignites the ancient feud be...\n",
       "3    Cheated on, mistreated and stepped on, the wom...\n",
       "4    Just when George Banks has recovered from his ...\n",
       "Name: overview, dtype: object"
      ]
     },
     "execution_count": 5,
     "metadata": {},
     "output_type": "execute_result"
    }
   ],
   "source": [
    "df['overview'].head()"
   ]
  },
  {
   "cell_type": "markdown",
   "id": "be00645e",
   "metadata": {
    "papermill": {
     "duration": 0.015007,
     "end_time": "2023-04-01T21:06:42.977734",
     "exception": false,
     "start_time": "2023-04-01T21:06:42.962727",
     "status": "completed"
    },
    "tags": []
   },
   "source": [
    "\n",
    "We drop empty and duplicate data"
   ]
  },
  {
   "cell_type": "code",
   "execution_count": 6,
   "id": "f599e378",
   "metadata": {
    "execution": {
     "iopub.execute_input": "2023-04-01T21:06:43.010489Z",
     "iopub.status.busy": "2023-04-01T21:06:43.009719Z",
     "iopub.status.idle": "2023-04-01T21:06:43.083756Z",
     "shell.execute_reply": "2023-04-01T21:06:43.082865Z"
    },
    "papermill": {
     "duration": 0.093377,
     "end_time": "2023-04-01T21:06:43.086360",
     "exception": false,
     "start_time": "2023-04-01T21:06:42.992983",
     "status": "completed"
    },
    "tags": []
   },
   "outputs": [],
   "source": [
    "df = df[~df[\"title\"].duplicated(keep='last')]\n",
    "df = df[~df[\"title\"].isna()]\n",
    "df = df[~df[\"overview\"].isna()]"
   ]
  },
  {
   "cell_type": "markdown",
   "id": "e36db25d",
   "metadata": {
    "papermill": {
     "duration": 0.014916,
     "end_time": "2023-04-01T21:06:43.116137",
     "exception": false,
     "start_time": "2023-04-01T21:06:43.101221",
     "status": "completed"
    },
    "tags": []
   },
   "source": [
    "We should remove the stop words in the text\n",
    "\n",
    "**Stop Words**\n",
    "\n",
    "Stop words are common words that are often removed from text during natural language processing because they are not considered to be meaningful in determining the overall meaning of a sentence or document. Stop words include words such as \"the\", \"a\", \"an\", \"and\", \"in\", \"of\", \"to\", \"that\", \"it\", and \"for\"."
   ]
  },
  {
   "cell_type": "markdown",
   "id": "d1e52138",
   "metadata": {
    "papermill": {
     "duration": 0.015439,
     "end_time": "2023-04-01T21:06:43.147049",
     "exception": false,
     "start_time": "2023-04-01T21:06:43.131610",
     "status": "completed"
    },
    "tags": []
   },
   "source": [
    "# Creating the TF-IDF Matrix\n",
    "\n"
   ]
  },
  {
   "cell_type": "code",
   "execution_count": 7,
   "id": "82aeea94",
   "metadata": {
    "execution": {
     "iopub.execute_input": "2023-04-01T21:06:43.179457Z",
     "iopub.status.busy": "2023-04-01T21:06:43.178723Z",
     "iopub.status.idle": "2023-04-01T21:06:45.460059Z",
     "shell.execute_reply": "2023-04-01T21:06:45.458872Z"
    },
    "papermill": {
     "duration": 2.300911,
     "end_time": "2023-04-01T21:06:45.463008",
     "exception": false,
     "start_time": "2023-04-01T21:06:43.162097",
     "status": "completed"
    },
    "tags": []
   },
   "outputs": [
    {
     "name": "stdout",
     "output_type": "stream",
     "text": [
      "(41344, 73955)\n"
     ]
    }
   ],
   "source": [
    "tfidf = TfidfVectorizer(stop_words=\"english\")\n",
    "\n",
    "tfidf_matrix = tfidf.fit_transform(df['overview'])\n",
    "\n",
    "print(tfidf_matrix.shape)"
   ]
  },
  {
   "cell_type": "markdown",
   "id": "d0dbe67b",
   "metadata": {
    "papermill": {
     "duration": 0.017506,
     "end_time": "2023-04-01T21:06:45.495739",
     "exception": false,
     "start_time": "2023-04-01T21:06:45.478233",
     "status": "completed"
    },
    "tags": []
   },
   "source": [
    "Shape: (41344, 73955)\n",
    "\n",
    "41344:  Overviews so Movies\n",
    "\n",
    "73955: Words\n",
    "\n",
    "Value: TF-IDF Scores\n"
   ]
  },
  {
   "cell_type": "code",
   "execution_count": 8,
   "id": "3ebe11d7",
   "metadata": {
    "execution": {
     "iopub.execute_input": "2023-04-01T21:06:45.569783Z",
     "iopub.status.busy": "2023-04-01T21:06:45.569415Z",
     "iopub.status.idle": "2023-04-01T21:06:45.573827Z",
     "shell.execute_reply": "2023-04-01T21:06:45.572636Z"
    },
    "papermill": {
     "duration": 0.02401,
     "end_time": "2023-04-01T21:06:45.576115",
     "exception": false,
     "start_time": "2023-04-01T21:06:45.552105",
     "status": "completed"
    },
    "tags": []
   },
   "outputs": [],
   "source": [
    "## tfidf_matrix.toarray() # TF-IDF Scores"
   ]
  },
  {
   "cell_type": "code",
   "execution_count": 9,
   "id": "f161b99d",
   "metadata": {
    "execution": {
     "iopub.execute_input": "2023-04-01T21:06:45.609406Z",
     "iopub.status.busy": "2023-04-01T21:06:45.609021Z",
     "iopub.status.idle": "2023-04-01T21:06:45.660477Z",
     "shell.execute_reply": "2023-04-01T21:06:45.659460Z"
    },
    "papermill": {
     "duration": 0.07198,
     "end_time": "2023-04-01T21:06:45.663177",
     "exception": false,
     "start_time": "2023-04-01T21:06:45.591197",
     "status": "completed"
    },
    "tags": []
   },
   "outputs": [],
   "source": [
    "tfidf_matrix = tfidf_matrix.astype(np.float32) # it's too big so it's very difficult to process so i halved the size"
   ]
  },
  {
   "attachments": {
    "53a83af1-6e68-4c61-8ed7-c8e8b35491e7.png": {
     "image/png": "[encoded data removed]"
    }
   },
   "cell_type": "markdown",
   "id": "bbada43f",
   "metadata": {
    "papermill": {
     "duration": 0.014647,
     "end_time": "2023-04-01T21:06:45.692503",
     "exception": false,
     "start_time": "2023-04-01T21:06:45.677856",
     "status": "completed"
    },
    "tags": []
   },
   "source": [
    "# Creating the Cosine Similarity Matrix\n",
    "\n",
    "![cosine-equation.png](attachment:53a83af1-6e68-4c61-8ed7-c8e8b35491e7.png)\n",
    "\n",
    "Cosine similarity is one of the metric to measure the text-similarity between two documents irrespective of their size in Natural language Processing. A word is represented into a vector form. The text documents are represented in n-dimensional vector space.\n"
   ]
  },
  {
   "cell_type": "code",
   "execution_count": 10,
   "id": "01b35df8",
   "metadata": {
    "execution": {
     "iopub.execute_input": "2023-04-01T21:06:45.724042Z",
     "iopub.status.busy": "2023-04-01T21:06:45.723621Z",
     "iopub.status.idle": "2023-04-01T21:07:10.111117Z",
     "shell.execute_reply": "2023-04-01T21:07:10.109607Z"
    },
    "papermill": {
     "duration": 24.406241,
     "end_time": "2023-04-01T21:07:10.113764",
     "exception": false,
     "start_time": "2023-04-01T21:06:45.707523",
     "status": "completed"
    },
    "tags": []
   },
   "outputs": [
    {
     "name": "stdout",
     "output_type": "stream",
     "text": [
      "(41344, 41344)\n"
     ]
    },
    {
     "data": {
      "text/plain": [
       "array([0.01515217, 1.        , 0.04651843, ..., 0.        , 0.02192681,\n",
       "       0.00924592], dtype=float32)"
      ]
     },
     "execution_count": 10,
     "metadata": {},
     "output_type": "execute_result"
    }
   ],
   "source": [
    "cosine_sim = cosine_similarity(tfidf_matrix,\n",
    "                               tfidf_matrix)\n",
    "\n",
    "print(cosine_sim.shape)\n",
    "cosine_sim[1]"
   ]
  },
  {
   "cell_type": "markdown",
   "id": "7a3c5b80",
   "metadata": {
    "papermill": {
     "duration": 0.014712,
     "end_time": "2023-04-01T21:07:10.143542",
     "exception": false,
     "start_time": "2023-04-01T21:07:10.128830",
     "status": "completed"
    },
    "tags": []
   },
   "source": [
    "shape: (41344, 41344) \n",
    "\n",
    "41344: movies"
   ]
  },
  {
   "cell_type": "markdown",
   "id": "8e85cab2",
   "metadata": {
    "papermill": {
     "duration": 0.014661,
     "end_time": "2023-04-01T21:07:10.173247",
     "exception": false,
     "start_time": "2023-04-01T21:07:10.158586",
     "status": "completed"
    },
    "tags": []
   },
   "source": [
    "# Making Suggestions Based on Similarities"
   ]
  },
  {
   "cell_type": "code",
   "execution_count": 11,
   "id": "0b491729",
   "metadata": {
    "execution": {
     "iopub.execute_input": "2023-04-01T21:07:10.205350Z",
     "iopub.status.busy": "2023-04-01T21:07:10.204943Z",
     "iopub.status.idle": "2023-04-01T21:07:10.216823Z",
     "shell.execute_reply": "2023-04-01T21:07:10.215728Z"
    },
    "papermill": {
     "duration": 0.031023,
     "end_time": "2023-04-01T21:07:10.219347",
     "exception": false,
     "start_time": "2023-04-01T21:07:10.188324",
     "status": "completed"
    },
    "tags": []
   },
   "outputs": [],
   "source": [
    "indices = pd.Series(df.index, index=df['title'])"
   ]
  },
  {
   "cell_type": "code",
   "execution_count": 12,
   "id": "7e82cf2e",
   "metadata": {
    "execution": {
     "iopub.execute_input": "2023-04-01T21:07:10.251299Z",
     "iopub.status.busy": "2023-04-01T21:07:10.250887Z",
     "iopub.status.idle": "2023-04-01T21:07:10.256948Z",
     "shell.execute_reply": "2023-04-01T21:07:10.256284Z"
    },
    "papermill": {
     "duration": 0.024855,
     "end_time": "2023-04-01T21:07:10.259287",
     "exception": false,
     "start_time": "2023-04-01T21:07:10.234432",
     "status": "completed"
    },
    "tags": []
   },
   "outputs": [
    {
     "data": {
      "text/plain": [
       "array([0., 0., 0., ..., 0., 0., 0.], dtype=float32)"
      ]
     },
     "execution_count": 12,
     "metadata": {},
     "output_type": "execute_result"
    }
   ],
   "source": [
    "movie_index = indices[\"Deadpool\"]\n",
    "\n",
    "cosine_sim[movie_index]"
   ]
  },
  {
   "cell_type": "code",
   "execution_count": 13,
   "id": "f168ef96",
   "metadata": {
    "execution": {
     "iopub.execute_input": "2023-04-01T21:07:10.291504Z",
     "iopub.status.busy": "2023-04-01T21:07:10.291088Z",
     "iopub.status.idle": "2023-04-01T21:07:10.303644Z",
     "shell.execute_reply": "2023-04-01T21:07:10.302218Z"
    },
    "papermill": {
     "duration": 0.032019,
     "end_time": "2023-04-01T21:07:10.306417",
     "exception": false,
     "start_time": "2023-04-01T21:07:10.274398",
     "status": "completed"
    },
    "tags": []
   },
   "outputs": [
    {
     "data": {
      "text/html": [
       "<div>\n",
       "<style scoped>\n",
       "    .dataframe tbody tr th:only-of-type {\n",
       "        vertical-align: middle;\n",
       "    }\n",
       "\n",
       "    .dataframe tbody tr th {\n",
       "        vertical-align: top;\n",
       "    }\n",
       "\n",
       "    .dataframe thead th {\n",
       "        text-align: right;\n",
       "    }\n",
       "</style>\n",
       "<table border=\"1\" class=\"dataframe\">\n",
       "  <thead>\n",
       "    <tr style=\"text-align: right;\">\n",
       "      <th></th>\n",
       "      <th>score</th>\n",
       "    </tr>\n",
       "  </thead>\n",
       "  <tbody>\n",
       "    <tr>\n",
       "      <th>0</th>\n",
       "      <td>0.000000</td>\n",
       "    </tr>\n",
       "    <tr>\n",
       "      <th>1</th>\n",
       "      <td>0.000000</td>\n",
       "    </tr>\n",
       "    <tr>\n",
       "      <th>2</th>\n",
       "      <td>0.000000</td>\n",
       "    </tr>\n",
       "    <tr>\n",
       "      <th>3</th>\n",
       "      <td>0.008761</td>\n",
       "    </tr>\n",
       "    <tr>\n",
       "      <th>4</th>\n",
       "      <td>0.025076</td>\n",
       "    </tr>\n",
       "    <tr>\n",
       "      <th>...</th>\n",
       "      <td>...</td>\n",
       "    </tr>\n",
       "    <tr>\n",
       "      <th>41339</th>\n",
       "      <td>0.000000</td>\n",
       "    </tr>\n",
       "    <tr>\n",
       "      <th>41340</th>\n",
       "      <td>0.038174</td>\n",
       "    </tr>\n",
       "    <tr>\n",
       "      <th>41341</th>\n",
       "      <td>0.000000</td>\n",
       "    </tr>\n",
       "    <tr>\n",
       "      <th>41342</th>\n",
       "      <td>0.000000</td>\n",
       "    </tr>\n",
       "    <tr>\n",
       "      <th>41343</th>\n",
       "      <td>0.000000</td>\n",
       "    </tr>\n",
       "  </tbody>\n",
       "</table>\n",
       "<p>41344 rows × 1 columns</p>\n",
       "</div>"
      ],
      "text/plain": [
       "          score\n",
       "0      0.000000\n",
       "1      0.000000\n",
       "2      0.000000\n",
       "3      0.008761\n",
       "4      0.025076\n",
       "...         ...\n",
       "41339  0.000000\n",
       "41340  0.038174\n",
       "41341  0.000000\n",
       "41342  0.000000\n",
       "41343  0.000000\n",
       "\n",
       "[41344 rows x 1 columns]"
      ]
     },
     "execution_count": 13,
     "metadata": {},
     "output_type": "execute_result"
    }
   ],
   "source": [
    "similarity_scores = pd.DataFrame(cosine_sim[movie_index], columns=[\"score\"])\n",
    "similarity_scores"
   ]
  },
  {
   "cell_type": "markdown",
   "id": "ab4b8a4e",
   "metadata": {
    "papermill": {
     "duration": 0.015567,
     "end_time": "2023-04-01T21:07:10.337817",
     "exception": false,
     "start_time": "2023-04-01T21:07:10.322250",
     "status": "completed"
    },
    "tags": []
   },
   "source": [
    "All similarity scores of Toy Story movie and other movies."
   ]
  },
  {
   "cell_type": "code",
   "execution_count": 14,
   "id": "858923a5",
   "metadata": {
    "execution": {
     "iopub.execute_input": "2023-04-01T21:07:10.371610Z",
     "iopub.status.busy": "2023-04-01T21:07:10.370298Z",
     "iopub.status.idle": "2023-04-01T21:07:10.383888Z",
     "shell.execute_reply": "2023-04-01T21:07:10.382820Z"
    },
    "papermill": {
     "duration": 0.032628,
     "end_time": "2023-04-01T21:07:10.386008",
     "exception": false,
     "start_time": "2023-04-01T21:07:10.353380",
     "status": "completed"
    },
    "tags": []
   },
   "outputs": [
    {
     "name": "stdout",
     "output_type": "stream",
     "text": [
      "Int64Index([29189, 26559, 24579, 8601, 15219, 37401, 19420, 26566, 22233,\n",
      "            23821],\n",
      "           dtype='int64')\n"
     ]
    }
   ],
   "source": [
    "print(similarity_scores.sort_values(\"score\", ascending=False)[1:11].index)\n",
    "movie_indices = similarity_scores.sort_values(\"score\", ascending=False)[1:11].index"
   ]
  },
  {
   "cell_type": "code",
   "execution_count": 15,
   "id": "b9fa48f4",
   "metadata": {
    "execution": {
     "iopub.execute_input": "2023-04-01T21:07:10.419430Z",
     "iopub.status.busy": "2023-04-01T21:07:10.418852Z",
     "iopub.status.idle": "2023-04-01T21:07:10.427848Z",
     "shell.execute_reply": "2023-04-01T21:07:10.426692Z"
    },
    "papermill": {
     "duration": 0.028667,
     "end_time": "2023-04-01T21:07:10.430389",
     "exception": false,
     "start_time": "2023-04-01T21:07:10.401722",
     "status": "completed"
    },
    "tags": []
   },
   "outputs": [
    {
     "data": {
      "text/plain": [
       "32570                       Hero's Island\n",
       "29680              Barbie: A Fairy Secret\n",
       "27537         Barbie: A Fashion Fairytale\n",
       "9944                        First Desires\n",
       "17296                       Your Highness\n",
       "41318    7 Days of Himawari & Her Puppies\n",
       "21874                     Bloody New Year\n",
       "29687     Barbie and the Three Musketeers\n",
       "24967         An Empress and the Warriors\n",
       "26728              Return to Nim's Island\n",
       "Name: title, dtype: object"
      ]
     },
     "execution_count": 15,
     "metadata": {},
     "output_type": "execute_result"
    }
   ],
   "source": [
    "df['title'].iloc[movie_indices]"
   ]
  },
  {
   "cell_type": "markdown",
   "id": "650b1f87",
   "metadata": {
    "papermill": {
     "duration": 0.015798,
     "end_time": "2023-04-01T21:07:10.461927",
     "exception": false,
     "start_time": "2023-04-01T21:07:10.446129",
     "status": "completed"
    },
    "tags": []
   },
   "source": [
    "That's it, if you like Toy Story movie, here are 10 similar movies for you :D\n",
    "\n",
    "Don't forget to vote :)"
   ]
  }
 ],
 "metadata": {
  "kernelspec": {
   "display_name": "Python 3",
   "language": "python",
   "name": "python3"
  },
  "language_info": {
   "codemirror_mode": {
    "name": "ipython",
    "version": 3
   },
   "file_extension": ".py",
   "mimetype": "text/x-python",
   "name": "python",
   "nbconvert_exporter": "python",
   "pygments_lexer": "ipython3",
   "version": "3.11.1 (v3.11.1:a7a450f84a, Dec  6 2022, 15:24:06) [Clang 13.0.0 (clang-1300.0.29.30)]"
  },
  "papermill": {
   "default_parameters": {},
   "duration": 41.669884,
   "end_time": "2023-04-01T21:07:11.702179",
   "environment_variables": {},
   "exception": null,
   "input_path": "__notebook__.ipynb",
   "output_path": "__notebook__.ipynb",
   "parameters": {},
   "start_time": "2023-04-01T21:06:30.032295",
   "version": "2.4.0"
  },
  "vscode": {
   "interpreter": {
    "hash": "aee8b7b246df8f9039afb4144a1f6fd8d2ca17a180786b69acc140d282b71a49"
   }
  }
 },
 "nbformat": 4,
 "nbformat_minor": 5
}
