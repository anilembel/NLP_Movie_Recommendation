{
 "cells": [
  {
   "attachments": {},
   "cell_type": "markdown",
   "id": "bd661064",
   "metadata": {},
   "source": [
    "##  <p align=\"center\" style=\"background-color:#16A085; font-family:newtimeroman; color:#FFF9ED; font-size:125%; border-radius:10px 10px;\">Step 1 : IMPORTS</p>\n"
   ]
  },
  {
   "cell_type": "code",
   "execution_count": 14,
   "id": "b74696d2",
   "metadata": {
    "execution": {
     "iopub.execute_input": "2023-04-01T21:06:40.245220Z",
     "iopub.status.busy": "2023-04-01T21:06:40.244509Z",
     "iopub.status.idle": "2023-04-01T21:06:41.324463Z",
     "shell.execute_reply": "2023-04-01T21:06:41.323168Z"
    },
    "papermill": {
     "duration": 1.098487,
     "end_time": "2023-04-01T21:06:41.327564",
     "exception": false,
     "start_time": "2023-04-01T21:06:40.229077",
     "status": "completed"
    },
    "tags": []
   },
   "outputs": [],
   "source": [
    "import pandas as pd\n",
    "import numpy as np\n",
    "from sklearn.feature_extraction.text import TfidfVectorizer\n",
    "from sklearn.metrics.pairwise import cosine_similarity"
   ]
  },
  {
   "cell_type": "code",
   "execution_count": 15,
   "id": "da749694",
   "metadata": {
    "execution": {
     "iopub.execute_input": "2023-04-01T21:06:41.359058Z",
     "iopub.status.busy": "2023-04-01T21:06:41.358631Z",
     "iopub.status.idle": "2023-04-01T21:06:42.534644Z",
     "shell.execute_reply": "2023-04-01T21:06:42.533578Z"
    },
    "papermill": {
     "duration": 1.195113,
     "end_time": "2023-04-01T21:06:42.537406",
     "exception": false,
     "start_time": "2023-04-01T21:06:41.342293",
     "status": "completed"
    },
    "tags": []
   },
   "outputs": [],
   "source": [
    "df = pd.read_csv('/Users/anilfurkanembel/Desktop/Raw Datas/movies_metadata.csv', low_memory=False)"
   ]
  },
  {
   "attachments": {},
   "cell_type": "markdown",
   "id": "1348bb8d",
   "metadata": {
    "papermill": {
     "duration": 0.014436,
     "end_time": "2023-04-01T21:06:42.566493",
     "exception": false,
     "start_time": "2023-04-01T21:06:42.552057",
     "status": "completed"
    },
    "tags": []
   },
   "source": [
    "##  <p align=\"center\" style=\"background-color:#16A085; font-family:newtimeroman; color:#FFF9ED; font-size:125%; border-radius:10px 10px;\">Step 2 :  EDA(Exploratory Data Analysis) </p>\n"
   ]
  },
  {
   "attachments": {},
   "cell_type": "markdown",
   "id": "be00645e",
   "metadata": {
    "papermill": {
     "duration": 0.015007,
     "end_time": "2023-04-01T21:06:42.977734",
     "exception": false,
     "start_time": "2023-04-01T21:06:42.962727",
     "status": "completed"
    },
    "tags": []
   },
   "source": [
    "\n",
    "We will drop empty and duplicated data"
   ]
  },
  {
   "cell_type": "code",
   "execution_count": 16,
   "id": "f599e378",
   "metadata": {
    "execution": {
     "iopub.execute_input": "2023-04-01T21:06:43.010489Z",
     "iopub.status.busy": "2023-04-01T21:06:43.009719Z",
     "iopub.status.idle": "2023-04-01T21:06:43.083756Z",
     "shell.execute_reply": "2023-04-01T21:06:43.082865Z"
    },
    "papermill": {
     "duration": 0.093377,
     "end_time": "2023-04-01T21:06:43.086360",
     "exception": false,
     "start_time": "2023-04-01T21:06:42.992983",
     "status": "completed"
    },
    "tags": []
   },
   "outputs": [],
   "source": [
    "df = df[~df[\"title\"].duplicated(keep='last')]\n",
    "df = df[~df[\"title\"].isna()]\n",
    "df = df[~df[\"overview\"].isna()]"
   ]
  },
  {
   "attachments": {},
   "cell_type": "markdown",
   "id": "f869cb71",
   "metadata": {},
   "source": [
    "We are gonna drop unneccessary columns "
   ]
  },
  {
   "cell_type": "code",
   "execution_count": 17,
   "id": "99dd7f36",
   "metadata": {},
   "outputs": [],
   "source": [
    "columns_to_drop = ['adult','belongs_to_collection','status','homepage','imdb_id','original_title','spoken_languages','video']\n",
    "df.drop(columns_to_drop, axis=1, inplace=True)"
   ]
  },
  {
   "attachments": {},
   "cell_type": "markdown",
   "id": "6a35291d",
   "metadata": {},
   "source": [
    "We are going to make Country Name and Company Name in a one sentence and for nan values We are gonna use unknown"
   ]
  },
  {
   "cell_type": "code",
   "execution_count": 18,
   "id": "f79d46c4",
   "metadata": {},
   "outputs": [],
   "source": [
    "df['production_companies'] = df['production_companies'].replace(np.nan,'unknown')\n",
    "df['production_companies'] = df['production_companies'].apply(lambda x: x.split(',')[0])\n",
    "df['production_companies'] = df['production_companies'].apply(lambda x: x.split(':')[-1])\n"
   ]
  },
  {
   "cell_type": "code",
   "execution_count": 19,
   "id": "a65e953a",
   "metadata": {},
   "outputs": [],
   "source": [
    "df['production_countries'] = df['production_countries'].replace(np.nan,'unknown')\n",
    "df['production_countries'] = df['production_countries'].apply(lambda x: x.split(':')[-1])\n",
    "df['production_countries'] = df['production_countries'].apply(lambda x : x[:-2])"
   ]
  },
  {
   "attachments": {},
   "cell_type": "markdown",
   "id": "8e6a69a3",
   "metadata": {},
   "source": [
    "I'm Gonna Change The Languages like en = English "
   ]
  },
  {
   "cell_type": "code",
   "execution_count": 20,
   "id": "ba54bf81",
   "metadata": {},
   "outputs": [],
   "source": [
    "language_dict = {'en': 'English', 'fr': 'French', 'zh': 'Chinese', 'fa': 'Persian',\n",
    "                 'nl': 'Dutch', 'de': 'German', 'cn': 'Chinese', 'it': 'Italian',\n",
    "                 'ar': 'Arabic', 'es': 'Spanish', 'ru': 'Russian', 'ja': 'Japanese',\n",
    "                 'sv': 'Swedish', 'ko': 'Korean', 'bn': 'Bengali', 'pt': 'Portuguese',\n",
    "                 'sr': 'Serbian', 'wo': 'Wolof', 'ro': 'Romanian', 'hu': 'Hungarian',\n",
    "                 'cy': 'Welsh', 'vi': 'Vietnamese', 'da': 'Danish', 'no': 'Norwegian',\n",
    "                 'cs': 'Czech', 'nb': 'Norwegian Bokmål', 'pl': 'Polish', 'el': 'Greek',\n",
    "                 'sh': 'Serbo-Croatian', 'xx': 'Unknown', 'mk': 'Macedonian', 'ca': 'Catalan',\n",
    "                 'fi': 'Finnish', 'th': 'Thai', 'sk': 'Slovak', 'he': 'Hebrew', 'hi': 'Hindi',\n",
    "                 'bs': 'Bosnian', 'tr': 'Turkish', 'is': 'Icelandic', 'ps': 'Pashto',\n",
    "                 'ab': 'Abkhazian', 'ka': 'Georgian', 'mn': 'Mongolian', 'bm': 'Bambara',\n",
    "                 'uk': 'Ukrainian', 'af': 'Afrikaans', 'bo': 'Tibetan', 'la': 'Latin',\n",
    "                 'ku': 'Kurdish', 'fy': 'Western Frisian', 'lv': 'Latvian', 'ta': 'Tamil',\n",
    "                 'sl': 'Slovenian', 'tl': 'Tagalog', 'ur': 'Urdu', 'rw': 'Kinyarwanda',\n",
    "                 'id': 'Indonesian', 'bg': 'Bulgarian', 'mr': 'Marathi', 'lt': 'Lithuanian',\n",
    "                 'et': 'Estonian', 'kk': 'Kazakh', 'ms': 'Malay', 'sq': 'Albanian',\n",
    "                 'qu': 'Quechua', 'te': 'Telugu', 'am': 'Amharic', 'jv': 'Javanese',\n",
    "                 'tg': 'Tajik', 'ml': 'Malayalam', 'hr': 'Croatian', 'lo': 'Lao',\n",
    "                 'ay': 'Aymara', 'kn': 'Kannada', 'eu': 'Basque', 'ne': 'Nepali',\n",
    "                 'pa': 'Punjabi', 'ky': 'Kirghiz', 'gl': 'Galician', 'uz': 'Uzbek',\n",
    "                 'sm': 'Samoan', 'mt': 'Maltese', 'hy': 'Armenian', 'iu': 'Inuktitut',\n",
    "                 'lb': 'Luxembourgish', 'si': 'Sinhalese'}\n",
    "\n",
    "df['original_language'] = df['original_language'].apply(lambda x: language_dict.get(x,x))\n",
    "df['Language'] = df['original_language']\n",
    "df.drop('original_language', axis=1, inplace= True)\n"
   ]
  },
  {
   "cell_type": "code",
   "execution_count": 21,
   "id": "fbbc6283",
   "metadata": {},
   "outputs": [
    {
     "data": {
      "text/html": [
       "<div>\n",
       "<style scoped>\n",
       "    .dataframe tbody tr th:only-of-type {\n",
       "        vertical-align: middle;\n",
       "    }\n",
       "\n",
       "    .dataframe tbody tr th {\n",
       "        vertical-align: top;\n",
       "    }\n",
       "\n",
       "    .dataframe thead th {\n",
       "        text-align: right;\n",
       "    }\n",
       "</style>\n",
       "<table border=\"1\" class=\"dataframe\">\n",
       "  <thead>\n",
       "    <tr style=\"text-align: right;\">\n",
       "      <th></th>\n",
       "      <th>budget</th>\n",
       "      <th>genres</th>\n",
       "      <th>id</th>\n",
       "      <th>overview</th>\n",
       "      <th>popularity</th>\n",
       "      <th>poster_path</th>\n",
       "      <th>production_companies</th>\n",
       "      <th>production_countries</th>\n",
       "      <th>release_date</th>\n",
       "      <th>revenue</th>\n",
       "      <th>runtime</th>\n",
       "      <th>tagline</th>\n",
       "      <th>title</th>\n",
       "      <th>vote_average</th>\n",
       "      <th>vote_count</th>\n",
       "      <th>Language</th>\n",
       "    </tr>\n",
       "  </thead>\n",
       "  <tbody>\n",
       "    <tr>\n",
       "      <th>0</th>\n",
       "      <td>30000000</td>\n",
       "      <td>[{'id': 16, 'name': 'Animation'}, {'id': 35, '...</td>\n",
       "      <td>862</td>\n",
       "      <td>Led by Woody, Andy's toys live happily in his ...</td>\n",
       "      <td>21.946943</td>\n",
       "      <td>/rhIRbceoE9lR4veEXuwCC2wARtG.jpg</td>\n",
       "      <td>'Pixar Animation Studios'</td>\n",
       "      <td>'United States of America'</td>\n",
       "      <td>1995-10-30</td>\n",
       "      <td>373554033.0</td>\n",
       "      <td>81.0</td>\n",
       "      <td>NaN</td>\n",
       "      <td>Toy Story</td>\n",
       "      <td>7.7</td>\n",
       "      <td>5415.0</td>\n",
       "      <td>English</td>\n",
       "    </tr>\n",
       "    <tr>\n",
       "      <th>1</th>\n",
       "      <td>65000000</td>\n",
       "      <td>[{'id': 12, 'name': 'Adventure'}, {'id': 14, '...</td>\n",
       "      <td>8844</td>\n",
       "      <td>When siblings Judy and Peter discover an encha...</td>\n",
       "      <td>17.015539</td>\n",
       "      <td>/vzmL6fP7aPKNKPRTFnZmiUfciyV.jpg</td>\n",
       "      <td>'TriStar Pictures'</td>\n",
       "      <td>'United States of America'</td>\n",
       "      <td>1995-12-15</td>\n",
       "      <td>262797249.0</td>\n",
       "      <td>104.0</td>\n",
       "      <td>Roll the dice and unleash the excitement!</td>\n",
       "      <td>Jumanji</td>\n",
       "      <td>6.9</td>\n",
       "      <td>2413.0</td>\n",
       "      <td>English</td>\n",
       "    </tr>\n",
       "    <tr>\n",
       "      <th>2</th>\n",
       "      <td>0</td>\n",
       "      <td>[{'id': 10749, 'name': 'Romance'}, {'id': 35, ...</td>\n",
       "      <td>15602</td>\n",
       "      <td>A family wedding reignites the ancient feud be...</td>\n",
       "      <td>11.7129</td>\n",
       "      <td>/6ksm1sjKMFLbO7UY2i6G1ju9SML.jpg</td>\n",
       "      <td>'Warner Bros.'</td>\n",
       "      <td>'United States of America'</td>\n",
       "      <td>1995-12-22</td>\n",
       "      <td>0.0</td>\n",
       "      <td>101.0</td>\n",
       "      <td>Still Yelling. Still Fighting. Still Ready for...</td>\n",
       "      <td>Grumpier Old Men</td>\n",
       "      <td>6.5</td>\n",
       "      <td>92.0</td>\n",
       "      <td>English</td>\n",
       "    </tr>\n",
       "    <tr>\n",
       "      <th>3</th>\n",
       "      <td>16000000</td>\n",
       "      <td>[{'id': 35, 'name': 'Comedy'}, {'id': 18, 'nam...</td>\n",
       "      <td>31357</td>\n",
       "      <td>Cheated on, mistreated and stepped on, the wom...</td>\n",
       "      <td>3.859495</td>\n",
       "      <td>/16XOMpEaLWkrcPqSQqhTmeJuqQl.jpg</td>\n",
       "      <td>'Twentieth Century Fox Film Corporation'</td>\n",
       "      <td>'United States of America'</td>\n",
       "      <td>1995-12-22</td>\n",
       "      <td>81452156.0</td>\n",
       "      <td>127.0</td>\n",
       "      <td>Friends are the people who let you be yourself...</td>\n",
       "      <td>Waiting to Exhale</td>\n",
       "      <td>6.1</td>\n",
       "      <td>34.0</td>\n",
       "      <td>English</td>\n",
       "    </tr>\n",
       "    <tr>\n",
       "      <th>4</th>\n",
       "      <td>0</td>\n",
       "      <td>[{'id': 35, 'name': 'Comedy'}]</td>\n",
       "      <td>11862</td>\n",
       "      <td>Just when George Banks has recovered from his ...</td>\n",
       "      <td>8.387519</td>\n",
       "      <td>/e64sOI48hQXyru7naBFyssKFxVd.jpg</td>\n",
       "      <td>'Sandollar Productions'</td>\n",
       "      <td>'United States of America'</td>\n",
       "      <td>1995-02-10</td>\n",
       "      <td>76578911.0</td>\n",
       "      <td>106.0</td>\n",
       "      <td>Just When His World Is Back To Normal... He's ...</td>\n",
       "      <td>Father of the Bride Part II</td>\n",
       "      <td>5.7</td>\n",
       "      <td>173.0</td>\n",
       "      <td>English</td>\n",
       "    </tr>\n",
       "    <tr>\n",
       "      <th>7</th>\n",
       "      <td>0</td>\n",
       "      <td>[{'id': 28, 'name': 'Action'}, {'id': 12, 'nam...</td>\n",
       "      <td>45325</td>\n",
       "      <td>A mischievous young boy, Tom Sawyer, witnesses...</td>\n",
       "      <td>2.561161</td>\n",
       "      <td>/sGO5Qa55p7wTu7FJcX4H4xIVKvS.jpg</td>\n",
       "      <td>'Walt Disney Pictures'</td>\n",
       "      <td>'United States of America'</td>\n",
       "      <td>1995-12-22</td>\n",
       "      <td>0.0</td>\n",
       "      <td>97.0</td>\n",
       "      <td>The Original Bad Boys.</td>\n",
       "      <td>Tom and Huck</td>\n",
       "      <td>5.4</td>\n",
       "      <td>45.0</td>\n",
       "      <td>English</td>\n",
       "    </tr>\n",
       "    <tr>\n",
       "      <th>8</th>\n",
       "      <td>35000000</td>\n",
       "      <td>[{'id': 28, 'name': 'Action'}, {'id': 12, 'nam...</td>\n",
       "      <td>9091</td>\n",
       "      <td>International action superstar Jean Claude Van...</td>\n",
       "      <td>5.23158</td>\n",
       "      <td>/eoWvKD60lT95Ss1MYNgVExpo5iU.jpg</td>\n",
       "      <td>'Universal Pictures'</td>\n",
       "      <td>'United States of America'</td>\n",
       "      <td>1995-12-22</td>\n",
       "      <td>64350171.0</td>\n",
       "      <td>106.0</td>\n",
       "      <td>Terror goes into overtime.</td>\n",
       "      <td>Sudden Death</td>\n",
       "      <td>5.5</td>\n",
       "      <td>174.0</td>\n",
       "      <td>English</td>\n",
       "    </tr>\n",
       "  </tbody>\n",
       "</table>\n",
       "</div>"
      ],
      "text/plain": [
       "     budget                                             genres     id  \\\n",
       "0  30000000  [{'id': 16, 'name': 'Animation'}, {'id': 35, '...    862   \n",
       "1  65000000  [{'id': 12, 'name': 'Adventure'}, {'id': 14, '...   8844   \n",
       "2         0  [{'id': 10749, 'name': 'Romance'}, {'id': 35, ...  15602   \n",
       "3  16000000  [{'id': 35, 'name': 'Comedy'}, {'id': 18, 'nam...  31357   \n",
       "4         0                     [{'id': 35, 'name': 'Comedy'}]  11862   \n",
       "7         0  [{'id': 28, 'name': 'Action'}, {'id': 12, 'nam...  45325   \n",
       "8  35000000  [{'id': 28, 'name': 'Action'}, {'id': 12, 'nam...   9091   \n",
       "\n",
       "                                            overview popularity  \\\n",
       "0  Led by Woody, Andy's toys live happily in his ...  21.946943   \n",
       "1  When siblings Judy and Peter discover an encha...  17.015539   \n",
       "2  A family wedding reignites the ancient feud be...    11.7129   \n",
       "3  Cheated on, mistreated and stepped on, the wom...   3.859495   \n",
       "4  Just when George Banks has recovered from his ...   8.387519   \n",
       "7  A mischievous young boy, Tom Sawyer, witnesses...   2.561161   \n",
       "8  International action superstar Jean Claude Van...    5.23158   \n",
       "\n",
       "                        poster_path  \\\n",
       "0  /rhIRbceoE9lR4veEXuwCC2wARtG.jpg   \n",
       "1  /vzmL6fP7aPKNKPRTFnZmiUfciyV.jpg   \n",
       "2  /6ksm1sjKMFLbO7UY2i6G1ju9SML.jpg   \n",
       "3  /16XOMpEaLWkrcPqSQqhTmeJuqQl.jpg   \n",
       "4  /e64sOI48hQXyru7naBFyssKFxVd.jpg   \n",
       "7  /sGO5Qa55p7wTu7FJcX4H4xIVKvS.jpg   \n",
       "8  /eoWvKD60lT95Ss1MYNgVExpo5iU.jpg   \n",
       "\n",
       "                        production_companies         production_countries  \\\n",
       "0                  'Pixar Animation Studios'   'United States of America'   \n",
       "1                         'TriStar Pictures'   'United States of America'   \n",
       "2                             'Warner Bros.'   'United States of America'   \n",
       "3   'Twentieth Century Fox Film Corporation'   'United States of America'   \n",
       "4                    'Sandollar Productions'   'United States of America'   \n",
       "7                     'Walt Disney Pictures'   'United States of America'   \n",
       "8                       'Universal Pictures'   'United States of America'   \n",
       "\n",
       "  release_date      revenue  runtime  \\\n",
       "0   1995-10-30  373554033.0     81.0   \n",
       "1   1995-12-15  262797249.0    104.0   \n",
       "2   1995-12-22          0.0    101.0   \n",
       "3   1995-12-22   81452156.0    127.0   \n",
       "4   1995-02-10   76578911.0    106.0   \n",
       "7   1995-12-22          0.0     97.0   \n",
       "8   1995-12-22   64350171.0    106.0   \n",
       "\n",
       "                                             tagline  \\\n",
       "0                                                NaN   \n",
       "1          Roll the dice and unleash the excitement!   \n",
       "2  Still Yelling. Still Fighting. Still Ready for...   \n",
       "3  Friends are the people who let you be yourself...   \n",
       "4  Just When His World Is Back To Normal... He's ...   \n",
       "7                             The Original Bad Boys.   \n",
       "8                         Terror goes into overtime.   \n",
       "\n",
       "                         title  vote_average  vote_count Language  \n",
       "0                    Toy Story           7.7      5415.0  English  \n",
       "1                      Jumanji           6.9      2413.0  English  \n",
       "2             Grumpier Old Men           6.5        92.0  English  \n",
       "3            Waiting to Exhale           6.1        34.0  English  \n",
       "4  Father of the Bride Part II           5.7       173.0  English  \n",
       "7                 Tom and Huck           5.4        45.0  English  \n",
       "8                 Sudden Death           5.5       174.0  English  "
      ]
     },
     "execution_count": 21,
     "metadata": {},
     "output_type": "execute_result"
    }
   ],
   "source": [
    "df.head(7)"
   ]
  },
  {
   "cell_type": "code",
   "execution_count": 22,
   "id": "9f65ac5c",
   "metadata": {},
   "outputs": [
    {
     "name": "stdout",
     "output_type": "stream",
     "text": [
      "<class 'pandas.core.frame.DataFrame'>\n",
      "Int64Index: 41344 entries, 0 to 45465\n",
      "Data columns (total 16 columns):\n",
      " #   Column                Non-Null Count  Dtype  \n",
      "---  ------                --------------  -----  \n",
      " 0   budget                41344 non-null  object \n",
      " 1   genres                41344 non-null  object \n",
      " 2   id                    41344 non-null  object \n",
      " 3   overview              41344 non-null  object \n",
      " 4   popularity            41344 non-null  object \n",
      " 5   poster_path           41009 non-null  object \n",
      " 6   production_companies  41344 non-null  object \n",
      " 7   production_countries  41344 non-null  object \n",
      " 8   release_date          41273 non-null  object \n",
      " 9   revenue               41344 non-null  float64\n",
      " 10  runtime               41344 non-null  float64\n",
      " 11  tagline               18560 non-null  object \n",
      " 12  title                 41344 non-null  object \n",
      " 13  vote_average          41344 non-null  float64\n",
      " 14  vote_count            41344 non-null  float64\n",
      " 15  Language              41334 non-null  object \n",
      "dtypes: float64(4), object(12)\n",
      "memory usage: 5.4+ MB\n"
     ]
    }
   ],
   "source": [
    "df.info()"
   ]
  },
  {
   "attachments": {},
   "cell_type": "markdown",
   "id": "d1e52138",
   "metadata": {
    "papermill": {
     "duration": 0.015439,
     "end_time": "2023-04-01T21:06:43.147049",
     "exception": false,
     "start_time": "2023-04-01T21:06:43.131610",
     "status": "completed"
    },
    "tags": []
   },
   "source": [
    "##  <p align=\"center\" style=\"background-color:#16A085; font-family:newtimeroman; color:#FFF9ED; font-size:125%; border-radius:10px 10px;\">Step 3 :  Creating TF-IDF Matrix </p>\n",
    "\n"
   ]
  },
  {
   "cell_type": "code",
   "execution_count": 23,
   "id": "82aeea94",
   "metadata": {
    "execution": {
     "iopub.execute_input": "2023-04-01T21:06:43.179457Z",
     "iopub.status.busy": "2023-04-01T21:06:43.178723Z",
     "iopub.status.idle": "2023-04-01T21:06:45.460059Z",
     "shell.execute_reply": "2023-04-01T21:06:45.458872Z"
    },
    "papermill": {
     "duration": 2.300911,
     "end_time": "2023-04-01T21:06:45.463008",
     "exception": false,
     "start_time": "2023-04-01T21:06:43.162097",
     "status": "completed"
    },
    "tags": []
   },
   "outputs": [
    {
     "name": "stdout",
     "output_type": "stream",
     "text": [
      "(41344, 73955)\n"
     ]
    }
   ],
   "source": [
    "tfidf = TfidfVectorizer(stop_words=\"english\")\n",
    "\n",
    "tfidf_matrix = tfidf.fit_transform(df['overview'])\n",
    "\n",
    "print(tfidf_matrix.shape)"
   ]
  },
  {
   "cell_type": "markdown",
   "id": "d0dbe67b",
   "metadata": {
    "papermill": {
     "duration": 0.017506,
     "end_time": "2023-04-01T21:06:45.495739",
     "exception": false,
     "start_time": "2023-04-01T21:06:45.478233",
     "status": "completed"
    },
    "tags": []
   },
   "source": [
    "Shape: (41344, 73955)\n",
    "\n",
    "41344:  Overviews so Movies\n",
    "\n",
    "73955: Words\n",
    "\n",
    "Value: TF-IDF Scores\n"
   ]
  },
  {
   "cell_type": "code",
   "execution_count": 24,
   "id": "f161b99d",
   "metadata": {
    "execution": {
     "iopub.execute_input": "2023-04-01T21:06:45.609406Z",
     "iopub.status.busy": "2023-04-01T21:06:45.609021Z",
     "iopub.status.idle": "2023-04-01T21:06:45.660477Z",
     "shell.execute_reply": "2023-04-01T21:06:45.659460Z"
    },
    "papermill": {
     "duration": 0.07198,
     "end_time": "2023-04-01T21:06:45.663177",
     "exception": false,
     "start_time": "2023-04-01T21:06:45.591197",
     "status": "completed"
    },
    "tags": []
   },
   "outputs": [],
   "source": [
    "tfidf_matrix = tfidf_matrix.astype(np.float32) # it's too big so it's very difficult to process so i halved the size"
   ]
  },
  {
   "attachments": {
    "53a83af1-6e68-4c61-8ed7-c8e8b35491e7.png": {
     "image/png": "[encoded data removed]"
    }
   },
   "cell_type": "markdown",
   "id": "bbada43f",
   "metadata": {
    "papermill": {
     "duration": 0.014647,
     "end_time": "2023-04-01T21:06:45.692503",
     "exception": false,
     "start_time": "2023-04-01T21:06:45.677856",
     "status": "completed"
    },
    "tags": []
   },
   "source": [
    "##  <p align=\"center\" style=\"background-color:#16A085; font-family:newtimeroman; color:#FFF9ED; font-size:125%; border-radius:10px 10px;\">Step 4 :  Creating the Cosine Similarity Matrix </p>\n",
    "\n",
    "![cosine-equation.png](attachment:53a83af1-6e68-4c61-8ed7-c8e8b35491e7.png)\n",
    "\n",
    "Cosine similarity is one of the metric to measure the text-similarity between two documents irrespective of their size in Natural language Processing. A word is represented into a vector form. The text documents are represented in n-dimensional vector space.\n"
   ]
  },
  {
   "cell_type": "code",
   "execution_count": 25,
   "id": "01b35df8",
   "metadata": {
    "execution": {
     "iopub.execute_input": "2023-04-01T21:06:45.724042Z",
     "iopub.status.busy": "2023-04-01T21:06:45.723621Z",
     "iopub.status.idle": "2023-04-01T21:07:10.111117Z",
     "shell.execute_reply": "2023-04-01T21:07:10.109607Z"
    },
    "papermill": {
     "duration": 24.406241,
     "end_time": "2023-04-01T21:07:10.113764",
     "exception": false,
     "start_time": "2023-04-01T21:06:45.707523",
     "status": "completed"
    },
    "tags": []
   },
   "outputs": [
    {
     "name": "stdout",
     "output_type": "stream",
     "text": [
      "(41344, 41344)\n"
     ]
    },
    {
     "data": {
      "text/plain": [
       "array([0.01515217, 1.        , 0.04651843, ..., 0.        , 0.02192681,\n",
       "       0.00924592], dtype=float32)"
      ]
     },
     "execution_count": 25,
     "metadata": {},
     "output_type": "execute_result"
    }
   ],
   "source": [
    "cosine_sim = cosine_similarity(tfidf_matrix,\n",
    "                               tfidf_matrix)\n",
    "\n",
    "print(cosine_sim.shape)\n",
    "cosine_sim[1]"
   ]
  },
  {
   "cell_type": "markdown",
   "id": "7a3c5b80",
   "metadata": {
    "papermill": {
     "duration": 0.014712,
     "end_time": "2023-04-01T21:07:10.143542",
     "exception": false,
     "start_time": "2023-04-01T21:07:10.128830",
     "status": "completed"
    },
    "tags": []
   },
   "source": [
    "shape: (41344, 41344) \n",
    "\n",
    "41344: movies"
   ]
  },
  {
   "attachments": {},
   "cell_type": "markdown",
   "id": "8e85cab2",
   "metadata": {
    "papermill": {
     "duration": 0.014661,
     "end_time": "2023-04-01T21:07:10.173247",
     "exception": false,
     "start_time": "2023-04-01T21:07:10.158586",
     "status": "completed"
    },
    "tags": []
   },
   "source": [
    "##  <p align=\"center\" style=\"background-color:#16A085; font-family:newtimeroman; color:#FFF9ED; font-size:125%; border-radius:10px 10px;\">Step 5 :  Making Suggestions Based on Similarities </p> "
   ]
  },
  {
   "cell_type": "code",
   "execution_count": 26,
   "id": "711f02ba",
   "metadata": {},
   "outputs": [
    {
     "ename": "IndexError",
     "evalue": "index 41344 is out of bounds for axis 0 with size 41344",
     "output_type": "error",
     "traceback": [
      "\u001b[0;31m---------------------------------------------------------------------------\u001b[0m",
      "\u001b[0;31mIndexError\u001b[0m                                Traceback (most recent call last)",
      "Cell \u001b[0;32mIn[26], line 17\u001b[0m\n\u001b[1;32m     13\u001b[0m     \u001b[39mreturn\u001b[39;00m pd\u001b[39m.\u001b[39mSeries(top_5_ids[\u001b[39m1\u001b[39m:], index\u001b[39m=\u001b[39m[\u001b[39m'\u001b[39m\u001b[39msim_movie_1\u001b[39m\u001b[39m'\u001b[39m, \u001b[39m'\u001b[39m\u001b[39msim_movie_2\u001b[39m\u001b[39m'\u001b[39m, \u001b[39m'\u001b[39m\u001b[39msim_movie_3\u001b[39m\u001b[39m'\u001b[39m, \u001b[39m'\u001b[39m\u001b[39msim_movie_4\u001b[39m\u001b[39m'\u001b[39m, \u001b[39m'\u001b[39m\u001b[39msim_movie_5\u001b[39m\u001b[39m'\u001b[39m])\n\u001b[1;32m     16\u001b[0m \u001b[39m#add the 5 most similar movies in the dataframe (40-50 sec)\u001b[39;00m\n\u001b[0;32m---> 17\u001b[0m df[[\u001b[39m'\u001b[39m\u001b[39msim_movie_1\u001b[39m\u001b[39m'\u001b[39m, \u001b[39m'\u001b[39m\u001b[39msim_movie_2\u001b[39m\u001b[39m'\u001b[39m, \u001b[39m'\u001b[39m\u001b[39msim_movie_3\u001b[39m\u001b[39m'\u001b[39m, \u001b[39m'\u001b[39m\u001b[39msim_movie_4\u001b[39m\u001b[39m'\u001b[39m, \u001b[39m'\u001b[39m\u001b[39msim_movie_5\u001b[39m\u001b[39m'\u001b[39m]] \u001b[39m=\u001b[39m df\u001b[39m.\u001b[39;49mapply(get_top_5_similar_movies, axis\u001b[39m=\u001b[39;49m\u001b[39m1\u001b[39;49m)\n\u001b[1;32m     18\u001b[0m df\u001b[39m.\u001b[39mto_csv(\u001b[39m'\u001b[39m\u001b[39m..\u001b[39m\u001b[39m\\\u001b[39m\u001b[39mData\u001b[39m\u001b[39m\\\u001b[39m\u001b[39mmovies_with_recommendation.csv\u001b[39m\u001b[39m'\u001b[39m, index\u001b[39m=\u001b[39m\u001b[39mFalse\u001b[39;00m)\n",
      "File \u001b[0;32m/Library/Frameworks/Python.framework/Versions/3.11/lib/python3.11/site-packages/pandas/core/frame.py:9565\u001b[0m, in \u001b[0;36mDataFrame.apply\u001b[0;34m(self, func, axis, raw, result_type, args, **kwargs)\u001b[0m\n\u001b[1;32m   9554\u001b[0m \u001b[39mfrom\u001b[39;00m \u001b[39mpandas\u001b[39;00m\u001b[39m.\u001b[39;00m\u001b[39mcore\u001b[39;00m\u001b[39m.\u001b[39;00m\u001b[39mapply\u001b[39;00m \u001b[39mimport\u001b[39;00m frame_apply\n\u001b[1;32m   9556\u001b[0m op \u001b[39m=\u001b[39m frame_apply(\n\u001b[1;32m   9557\u001b[0m     \u001b[39mself\u001b[39m,\n\u001b[1;32m   9558\u001b[0m     func\u001b[39m=\u001b[39mfunc,\n\u001b[0;32m   (...)\u001b[0m\n\u001b[1;32m   9563\u001b[0m     kwargs\u001b[39m=\u001b[39mkwargs,\n\u001b[1;32m   9564\u001b[0m )\n\u001b[0;32m-> 9565\u001b[0m \u001b[39mreturn\u001b[39;00m op\u001b[39m.\u001b[39;49mapply()\u001b[39m.\u001b[39m__finalize__(\u001b[39mself\u001b[39m, method\u001b[39m=\u001b[39m\u001b[39m\"\u001b[39m\u001b[39mapply\u001b[39m\u001b[39m\"\u001b[39m)\n",
      "File \u001b[0;32m/Library/Frameworks/Python.framework/Versions/3.11/lib/python3.11/site-packages/pandas/core/apply.py:746\u001b[0m, in \u001b[0;36mFrameApply.apply\u001b[0;34m(self)\u001b[0m\n\u001b[1;32m    743\u001b[0m \u001b[39melif\u001b[39;00m \u001b[39mself\u001b[39m\u001b[39m.\u001b[39mraw:\n\u001b[1;32m    744\u001b[0m     \u001b[39mreturn\u001b[39;00m \u001b[39mself\u001b[39m\u001b[39m.\u001b[39mapply_raw()\n\u001b[0;32m--> 746\u001b[0m \u001b[39mreturn\u001b[39;00m \u001b[39mself\u001b[39;49m\u001b[39m.\u001b[39;49mapply_standard()\n",
      "File \u001b[0;32m/Library/Frameworks/Python.framework/Versions/3.11/lib/python3.11/site-packages/pandas/core/apply.py:873\u001b[0m, in \u001b[0;36mFrameApply.apply_standard\u001b[0;34m(self)\u001b[0m\n\u001b[1;32m    872\u001b[0m \u001b[39mdef\u001b[39;00m \u001b[39mapply_standard\u001b[39m(\u001b[39mself\u001b[39m):\n\u001b[0;32m--> 873\u001b[0m     results, res_index \u001b[39m=\u001b[39m \u001b[39mself\u001b[39;49m\u001b[39m.\u001b[39;49mapply_series_generator()\n\u001b[1;32m    875\u001b[0m     \u001b[39m# wrap results\u001b[39;00m\n\u001b[1;32m    876\u001b[0m     \u001b[39mreturn\u001b[39;00m \u001b[39mself\u001b[39m\u001b[39m.\u001b[39mwrap_results(results, res_index)\n",
      "File \u001b[0;32m/Library/Frameworks/Python.framework/Versions/3.11/lib/python3.11/site-packages/pandas/core/apply.py:889\u001b[0m, in \u001b[0;36mFrameApply.apply_series_generator\u001b[0;34m(self)\u001b[0m\n\u001b[1;32m    886\u001b[0m \u001b[39mwith\u001b[39;00m option_context(\u001b[39m\"\u001b[39m\u001b[39mmode.chained_assignment\u001b[39m\u001b[39m\"\u001b[39m, \u001b[39mNone\u001b[39;00m):\n\u001b[1;32m    887\u001b[0m     \u001b[39mfor\u001b[39;00m i, v \u001b[39min\u001b[39;00m \u001b[39menumerate\u001b[39m(series_gen):\n\u001b[1;32m    888\u001b[0m         \u001b[39m# ignore SettingWithCopy here in case the user mutates\u001b[39;00m\n\u001b[0;32m--> 889\u001b[0m         results[i] \u001b[39m=\u001b[39m \u001b[39mself\u001b[39;49m\u001b[39m.\u001b[39;49mf(v)\n\u001b[1;32m    890\u001b[0m         \u001b[39mif\u001b[39;00m \u001b[39misinstance\u001b[39m(results[i], ABCSeries):\n\u001b[1;32m    891\u001b[0m             \u001b[39m# If we have a view on v, we need to make a copy because\u001b[39;00m\n\u001b[1;32m    892\u001b[0m             \u001b[39m#  series_generator will swap out the underlying data\u001b[39;00m\n\u001b[1;32m    893\u001b[0m             results[i] \u001b[39m=\u001b[39m results[i]\u001b[39m.\u001b[39mcopy(deep\u001b[39m=\u001b[39m\u001b[39mFalse\u001b[39;00m)\n",
      "Cell \u001b[0;32mIn[26], line 6\u001b[0m, in \u001b[0;36mget_top_5_similar_movies\u001b[0;34m(row)\u001b[0m\n\u001b[1;32m      2\u001b[0m \u001b[39m\"\"\" \u001b[39;00m\n\u001b[1;32m      3\u001b[0m \u001b[39mthis function will return the 5 most similar movies than the one in te given row\u001b[39;00m\n\u001b[1;32m      4\u001b[0m \u001b[39m\"\"\"\u001b[39;00m\n\u001b[1;32m      5\u001b[0m \u001b[39m# Get the similarity scores for the current movie\u001b[39;00m\n\u001b[0;32m----> 6\u001b[0m similarity_scores \u001b[39m=\u001b[39m cosine_sim[row\u001b[39m.\u001b[39;49mname]\n\u001b[1;32m      8\u001b[0m \u001b[39m# Get the indices of the top 5 similar movies -> (6 because the movie of the line row will be included) -> in return select only the 5 last ones\u001b[39;00m\n\u001b[1;32m      9\u001b[0m top_5_indices \u001b[39m=\u001b[39m np\u001b[39m.\u001b[39margpartition(\u001b[39m-\u001b[39msimilarity_scores, \u001b[39mrange\u001b[39m(\u001b[39m6\u001b[39m))[:\u001b[39m6\u001b[39m]\n",
      "\u001b[0;31mIndexError\u001b[0m: index 41344 is out of bounds for axis 0 with size 41344"
     ]
    }
   ],
   "source": [
    "def get_top_5_similar_movies(row:pd.Series) -> pd.Series:\n",
    "    \"\"\" \n",
    "    this function will return the 5 most similar movies than the one in te given row\n",
    "    \"\"\"\n",
    "    # Get the similarity scores for the current movie\n",
    "    similarity_scores = cosine_sim[row.name]\n",
    "\n",
    "    # Get the indices of the top 5 similar movies -> (6 because the movie of the line row will be included) -> in return select only the 5 last ones\n",
    "    top_5_indices = np.argpartition(-similarity_scores, range(6))[:6]\n",
    "    #get the ids of the movies (ids to be sure it is unique) (duplicates in movie title)\n",
    "    top_5_ids = [df.iloc[i]['id'] for i in top_5_indices]\n",
    "\n",
    "    return pd.Series(top_5_ids[1:], index=['sim_movie_1', 'sim_movie_2', 'sim_movie_3', 'sim_movie_4', 'sim_movie_5'])\n",
    "\n",
    "\n",
    "#add the 5 most similar movies in the dataframe (40-50 sec)\n",
    "df[['sim_movie_1', 'sim_movie_2', 'sim_movie_3', 'sim_movie_4', 'sim_movie_5']] = df.apply(get_top_5_similar_movies, axis=1)\n",
    "df.to_csv('..\\Data\\movies_with_recommendation.csv', index=False)\n"
   ]
  },
  {
   "cell_type": "code",
   "execution_count": null,
   "id": "60d1db99",
   "metadata": {},
   "outputs": [],
   "source": [
    "import pandas as pd\n",
    "from sklearn.metrics.pairwise import cosine_similarity\n",
    "\n",
    "# Veri setinizi yükleyin\n",
    "df = pd.read_csv(\"veriseti.csv\")\n",
    "\n",
    "# 'title' sütununu döngüye sokun ve her bir film için benzerlik puanlarını hesaplayın\n",
    "for title in df[\"title\"]:\n",
    "    indices = pd.Series(df.index, index=df['title'])\n",
    "    movie_index = indices[title]\n",
    "    cosine_sim = cosine_similarity(dices)\n",
    "    similarity_scores = pd.DataFrame(cosine_sim[movie_index], columns=[\"score\"])\n",
    "    movie_indices = similarity_scores.sort_values(\"score\", ascending=False)[1:4].index\n",
    "    rec_movies = df['title'].iloc[movie_indices].values\n",
    "    df.loc[df['title'] == title, 'tahmin1'] = rec_movies[0]\n",
    "    df.loc[df['title'] == title, 'tahmin2'] = rec_movies[1]\n",
    "    df.loc[df['title'] == title, 'tahmin3'] = rec_movies[2]\n",
    "\n",
    "# Yeni veri setinizi kontrol edin\n",
    "print(df.head())\n"
   ]
  },
  {
   "cell_type": "code",
   "execution_count": null,
   "id": "16acc2b2",
   "metadata": {},
   "outputs": [],
   "source": [
    "ndices = pd.Series(df.index, index=df['title'])\n",
    "movie_index = indices[\"Deadpool\"]\n",
    "cosine_sim[movie_index]\n",
    "similarity_scores = pd.DataFrame(cosine_sim[movie_index], columns=[\"score\"])\n",
    "movie_indices = similarity_scores.sort_values(\"score\", ascending=False)[1:4].index\n",
    "df['title'].iloc[movie_indices]"
   ]
  }
 ],
 "metadata": {
  "kernelspec": {
   "display_name": "Python 3",
   "language": "python",
   "name": "python3"
  },
  "language_info": {
   "codemirror_mode": {
    "name": "ipython",
    "version": 3
   },
   "file_extension": ".py",
   "mimetype": "text/x-python",
   "name": "python",
   "nbconvert_exporter": "python",
   "pygments_lexer": "ipython3",
   "version": "3.11.1"
  },
  "papermill": {
   "default_parameters": {},
   "duration": 41.669884,
   "end_time": "2023-04-01T21:07:11.702179",
   "environment_variables": {},
   "exception": null,
   "input_path": "__notebook__.ipynb",
   "output_path": "__notebook__.ipynb",
   "parameters": {},
   "start_time": "2023-04-01T21:06:30.032295",
   "version": "2.4.0"
  },
  "vscode": {
   "interpreter": {
    "hash": "aee8b7b246df8f9039afb4144a1f6fd8d2ca17a180786b69acc140d282b71a49"
   }
  }
 },
 "nbformat": 4,
 "nbformat_minor": 5
}
